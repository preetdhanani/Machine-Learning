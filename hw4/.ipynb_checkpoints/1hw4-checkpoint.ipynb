{
 "cells": [
  {
   "cell_type": "markdown",
   "metadata": {
    "id": "vEJSjM8RthIj"
   },
   "source": [
    "# Applied Machine Learning \n",
    "\n",
    "## Homework 4: Logistic regression, hyperparameter optimization \n",
    "\n"
   ]
  },
  {
   "cell_type": "markdown",
   "metadata": {
    "id": "OTJi1SgKthIo"
   },
   "source": [
    "## Imports "
   ]
  },
  {
   "cell_type": "code",
   "execution_count": 1,
   "metadata": {
    "id": "kptiUzhfthIp"
   },
   "outputs": [],
   "source": [
    "import matplotlib.pyplot as plt\n",
    "import numpy as np\n",
    "import pandas as pd\n",
    "\n",
    "plt.rcParams[\"font.size\"] = 16\n",
    "\n",
    "from sklearn.dummy import DummyClassifier\n",
    "from sklearn.feature_extraction.text import CountVectorizer\n",
    "from sklearn.linear_model import LogisticRegression\n",
    "from sklearn.model_selection import (\n",
    "    GridSearchCV,\n",
    "    RandomizedSearchCV,\n",
    "    cross_val_score,\n",
    "    cross_validate,\n",
    "    train_test_split,\n",
    ")\n",
    "from sklearn.pipeline import Pipeline, make_pipeline\n",
    "from sklearn.tree import DecisionTreeClassifier"
   ]
  },
  {
   "cell_type": "markdown",
   "metadata": {
    "id": "slQGtk_UthIq"
   },
   "source": [
    "<br><br><br><br>"
   ]
  },
  {
   "cell_type": "markdown",
   "metadata": {
    "id": "ZNMNABoEthIr"
   },
   "source": [
    "## Exercise 1: Implementing `DummyClassifier` \n",
    "<hr>\n",
    "rubric={points:25}\n",
    "\n",
    "In this course you will generally **not** be asked to implement machine learning algorihtms (like logistic regression) from scratch. However, this exercise is an exception: you will implement the simplest possible classifier, `DummyClassifier`.\n",
    "\n",
    "As a reminder, `DummyClassifier` is meant as a baseline and is generally the worst possible \"model\" you could \"fit\" to a dataset. All it does is predict the most popular class in the training set. So if there are more 0s than 1s it predicts 0 every time, and if there are more 1s than 0s it predicts 1 every time. For `predict_proba` it looks at the frequencies in the training set, so if you have 30% 0's 70% 1's it predicts `[0.3 0.7]` every time. Thus, `fit` only looks at `y` (not `X`).\n",
    "\n",
    "Below you will find starter code for a class called `MyDummyClassifier`, which has methods `fit()`, `predict()`, `predict_proba()` and `score()`. Your task is to fill in those four functions. To get your started, I have given you a `return` statement in each case that returns the correct data type: `fit` can return nothing, `predict` returns an array whose size is the number of examples, `predict_proba` returns an array whose size is the number of examples x 2, and `score` returns a number.\n",
    "\n",
    "The next code block has some tests you can use to assess whether your code is working. \n",
    "\n",
    "I suggest starting with `fit` and `predict`, and making sure those are working before moving on to `predict_proba`. For `predict_proba`, you should return the frequency of each class in the training data, which is the behaviour of `DummyClassifier(strategy='prior')`. Your `score` function should call your `predict` function. Again, you can compare with `DummyClassifier` using the code below.\n",
    "\n",
    "To simplify this question, you can assume **binary classification**, and furthermore that these classes are **encoded as 0 and 1**. In other words, you can assume that `y` contains only 0s and 1s. The real `DummyClassifier` works when you have more than two classes, and also works if the target values are encoded differently, for example as \"cat\", \"dog\", \"mouse\", etc."
   ]
  },
  {
   "cell_type": "code",
   "execution_count": 2,
   "metadata": {
    "id": "kOdJ-JEEthIs"
   },
   "outputs": [],
   "source": [
    "class MyDummyClassifier:\n",
    "    \"\"\"\n",
    "    A baseline classifier that predicts the most common class.\n",
    "    The predicted probabilities come from the relative frequencies\n",
    "    of the classes in the training data.\n",
    "\n",
    "    This implementation only works when y only contains 0s and 1s.\n",
    "    \"\"\"\n",
    "    \n",
    "\n",
    "    def fit(self, X, y):\n",
    "        \n",
    "        self.prob = pd.DataFrame(y).value_counts(normalize=True).values\n",
    "        self.classs = pd.DataFrame(y).value_counts().idxmax()\n",
    "        self.cls = pd.DataFrame(y).value_counts().idxmax()\n",
    "        return None # Replace with your code\n",
    "\n",
    "    def predict(self, X):\n",
    "        \n",
    "        return np.full(X.shape[0],self.classs)  # Replace with your code\n",
    "\n",
    "    def predict_proba(self, X):\n",
    "        \n",
    "        print(np.full((X.shape[0], 2),self.prob))\n",
    "        return np.full((X.shape[0], 2),self.prob)  # Replace with your code\n",
    "\n",
    "    def score(self, X, y):\n",
    "        score1 = pd.DataFrame(y).value_counts().loc[self.cls]/len(y)\n",
    "        \n",
    "        return score1  # Replace with your code"
   ]
  },
  {
   "cell_type": "markdown",
   "metadata": {
    "id": "6o9lTGRothIs"
   },
   "source": [
    "Below are some tests for `predict` using randomly generated data. You may want to run the cell a few times to make sure you explore the different cases (or automate this with a loop or random seeds)."
   ]
  },
  {
   "cell_type": "code",
   "execution_count": 3,
   "metadata": {
    "id": "aBbDx10AthIt"
   },
   "outputs": [],
   "source": [
    "# For testing, generate random data\n",
    "n_train = 101\n",
    "n_valid = 21\n",
    "d = 5\n",
    "X_train_dummy = np.random.randn(n_train, d)\n",
    "X_valid_dummy = np.random.randn(n_valid, d)\n",
    "y_train_dummy = np.random.randint(2, size=n_train)\n",
    "y_valid_dummy = np.random.randint(2, size=n_valid)\n",
    "\n",
    "my_dc = MyDummyClassifier()\n",
    "sk_dc = DummyClassifier(strategy=\"prior\")\n",
    "\n",
    "sk_dc.fit(X_train_dummy, y_train_dummy)\n",
    "my_dc.fit(X_train_dummy, y_train_dummy)\n",
    "\n",
    "assert np.array_equal(my_dc.predict(X_train_dummy), sk_dc.predict(X_train_dummy))\n",
    "assert np.array_equal(my_dc.predict(X_valid_dummy), sk_dc.predict(X_valid_dummy))"
   ]
  },
  {
   "cell_type": "markdown",
   "metadata": {
    "id": "tjPR99BtthIu"
   },
   "source": [
    "Below are some tests for `predict_proba`."
   ]
  },
  {
   "cell_type": "code",
   "execution_count": 4,
   "metadata": {
    "id": "XrKgHtRLthIu"
   },
   "outputs": [
    {
     "name": "stdout",
     "output_type": "stream",
     "text": [
      "[[0.52475248 0.47524752]\n",
      " [0.52475248 0.47524752]\n",
      " [0.52475248 0.47524752]\n",
      " [0.52475248 0.47524752]\n",
      " [0.52475248 0.47524752]\n",
      " [0.52475248 0.47524752]\n",
      " [0.52475248 0.47524752]\n",
      " [0.52475248 0.47524752]\n",
      " [0.52475248 0.47524752]\n",
      " [0.52475248 0.47524752]\n",
      " [0.52475248 0.47524752]\n",
      " [0.52475248 0.47524752]\n",
      " [0.52475248 0.47524752]\n",
      " [0.52475248 0.47524752]\n",
      " [0.52475248 0.47524752]\n",
      " [0.52475248 0.47524752]\n",
      " [0.52475248 0.47524752]\n",
      " [0.52475248 0.47524752]\n",
      " [0.52475248 0.47524752]\n",
      " [0.52475248 0.47524752]\n",
      " [0.52475248 0.47524752]\n",
      " [0.52475248 0.47524752]\n",
      " [0.52475248 0.47524752]\n",
      " [0.52475248 0.47524752]\n",
      " [0.52475248 0.47524752]\n",
      " [0.52475248 0.47524752]\n",
      " [0.52475248 0.47524752]\n",
      " [0.52475248 0.47524752]\n",
      " [0.52475248 0.47524752]\n",
      " [0.52475248 0.47524752]\n",
      " [0.52475248 0.47524752]\n",
      " [0.52475248 0.47524752]\n",
      " [0.52475248 0.47524752]\n",
      " [0.52475248 0.47524752]\n",
      " [0.52475248 0.47524752]\n",
      " [0.52475248 0.47524752]\n",
      " [0.52475248 0.47524752]\n",
      " [0.52475248 0.47524752]\n",
      " [0.52475248 0.47524752]\n",
      " [0.52475248 0.47524752]\n",
      " [0.52475248 0.47524752]\n",
      " [0.52475248 0.47524752]\n",
      " [0.52475248 0.47524752]\n",
      " [0.52475248 0.47524752]\n",
      " [0.52475248 0.47524752]\n",
      " [0.52475248 0.47524752]\n",
      " [0.52475248 0.47524752]\n",
      " [0.52475248 0.47524752]\n",
      " [0.52475248 0.47524752]\n",
      " [0.52475248 0.47524752]\n",
      " [0.52475248 0.47524752]\n",
      " [0.52475248 0.47524752]\n",
      " [0.52475248 0.47524752]\n",
      " [0.52475248 0.47524752]\n",
      " [0.52475248 0.47524752]\n",
      " [0.52475248 0.47524752]\n",
      " [0.52475248 0.47524752]\n",
      " [0.52475248 0.47524752]\n",
      " [0.52475248 0.47524752]\n",
      " [0.52475248 0.47524752]\n",
      " [0.52475248 0.47524752]\n",
      " [0.52475248 0.47524752]\n",
      " [0.52475248 0.47524752]\n",
      " [0.52475248 0.47524752]\n",
      " [0.52475248 0.47524752]\n",
      " [0.52475248 0.47524752]\n",
      " [0.52475248 0.47524752]\n",
      " [0.52475248 0.47524752]\n",
      " [0.52475248 0.47524752]\n",
      " [0.52475248 0.47524752]\n",
      " [0.52475248 0.47524752]\n",
      " [0.52475248 0.47524752]\n",
      " [0.52475248 0.47524752]\n",
      " [0.52475248 0.47524752]\n",
      " [0.52475248 0.47524752]\n",
      " [0.52475248 0.47524752]\n",
      " [0.52475248 0.47524752]\n",
      " [0.52475248 0.47524752]\n",
      " [0.52475248 0.47524752]\n",
      " [0.52475248 0.47524752]\n",
      " [0.52475248 0.47524752]\n",
      " [0.52475248 0.47524752]\n",
      " [0.52475248 0.47524752]\n",
      " [0.52475248 0.47524752]\n",
      " [0.52475248 0.47524752]\n",
      " [0.52475248 0.47524752]\n",
      " [0.52475248 0.47524752]\n",
      " [0.52475248 0.47524752]\n",
      " [0.52475248 0.47524752]\n",
      " [0.52475248 0.47524752]\n",
      " [0.52475248 0.47524752]\n",
      " [0.52475248 0.47524752]\n",
      " [0.52475248 0.47524752]\n",
      " [0.52475248 0.47524752]\n",
      " [0.52475248 0.47524752]\n",
      " [0.52475248 0.47524752]\n",
      " [0.52475248 0.47524752]\n",
      " [0.52475248 0.47524752]\n",
      " [0.52475248 0.47524752]\n",
      " [0.52475248 0.47524752]\n",
      " [0.52475248 0.47524752]]\n"
     ]
    },
    {
     "ename": "AssertionError",
     "evalue": "",
     "output_type": "error",
     "traceback": [
      "\u001b[1;31m---------------------------------------------------------------------------\u001b[0m",
      "\u001b[1;31mAssertionError\u001b[0m                            Traceback (most recent call last)",
      "Cell \u001b[1;32mIn[4], line 1\u001b[0m\n\u001b[1;32m----> 1\u001b[0m \u001b[38;5;28;01massert\u001b[39;00m np\u001b[38;5;241m.\u001b[39mallclose(\n\u001b[0;32m      2\u001b[0m     my_dc\u001b[38;5;241m.\u001b[39mpredict_proba(X_train_dummy), sk_dc\u001b[38;5;241m.\u001b[39mpredict_proba(X_train_dummy)\n\u001b[0;32m      3\u001b[0m )\n\u001b[0;32m      4\u001b[0m \u001b[38;5;28;01massert\u001b[39;00m np\u001b[38;5;241m.\u001b[39mallclose(\n\u001b[0;32m      5\u001b[0m     my_dc\u001b[38;5;241m.\u001b[39mpredict_proba(X_valid_dummy), sk_dc\u001b[38;5;241m.\u001b[39mpredict_proba(X_valid_dummy)\n\u001b[0;32m      6\u001b[0m )\n",
      "\u001b[1;31mAssertionError\u001b[0m: "
     ]
    }
   ],
   "source": [
    "assert np.allclose(\n",
    "    my_dc.predict_proba(X_train_dummy), sk_dc.predict_proba(X_train_dummy)\n",
    ")\n",
    "assert np.allclose(\n",
    "    my_dc.predict_proba(X_valid_dummy), sk_dc.predict_proba(X_valid_dummy)\n",
    ")"
   ]
  },
  {
   "cell_type": "markdown",
   "metadata": {
    "id": "G8x2RV4nthIu"
   },
   "source": [
    "Below are some tests for `score`."
   ]
  },
  {
   "cell_type": "code",
   "execution_count": null,
   "metadata": {
    "id": "COFJXNygthIv"
   },
   "outputs": [],
   "source": [
    "assert np.isclose(\n",
    "    my_dc.score(X_train_dummy, y_train_dummy), sk_dc.score(X_train_dummy, y_train_dummy)\n",
    ")\n",
    "assert np.isclose(\n",
    "    my_dc.score(X_valid_dummy, y_valid_dummy), sk_dc.score(X_valid_dummy, y_valid_dummy)\n",
    ")"
   ]
  },
  {
   "cell_type": "markdown",
   "metadata": {
    "id": "VNFMYiBxthIv"
   },
   "source": [
    "<br><br><br><br>"
   ]
  },
  {
   "cell_type": "markdown",
   "metadata": {
    "id": "YQCBwZ_cthIv",
    "nbgrader": {
     "grade": false,
     "grade_id": "cell-8e3cc53df86a7e14",
     "locked": true,
     "schema_version": 3,
     "solution": false,
     "task": false
    },
    "toc-hr-collapsed": true
   },
   "source": [
    "## Exercise 2: Trump Tweets\n",
    "<hr>\n",
    "\n",
    "For the rest of this assignment we'll be looking at a [dataset of Donald Trump's tweets](https://www.kaggle.com/austinreese/trump-tweets) as of June 2020. You should start by downloading the dataset. Unzip it and move the file `realdonaldtrump.csv` into this directory. As usual, please do not submit the dataset when you submit the assignment. "
   ]
  },
  {
   "cell_type": "code",
   "execution_count": 7,
   "metadata": {
    "id": "rk16lFx8vhsf"
   },
   "outputs": [
    {
     "data": {
      "text/html": [
       "<div>\n",
       "<style scoped>\n",
       "    .dataframe tbody tr th:only-of-type {\n",
       "        vertical-align: middle;\n",
       "    }\n",
       "\n",
       "    .dataframe tbody tr th {\n",
       "        vertical-align: top;\n",
       "    }\n",
       "\n",
       "    .dataframe thead th {\n",
       "        text-align: right;\n",
       "    }\n",
       "</style>\n",
       "<table border=\"1\" class=\"dataframe\">\n",
       "  <thead>\n",
       "    <tr style=\"text-align: right;\">\n",
       "      <th></th>\n",
       "      <th>link</th>\n",
       "      <th>content</th>\n",
       "      <th>date</th>\n",
       "      <th>retweets</th>\n",
       "      <th>favorites</th>\n",
       "      <th>mentions</th>\n",
       "      <th>hashtags</th>\n",
       "    </tr>\n",
       "    <tr>\n",
       "      <th>id</th>\n",
       "      <th></th>\n",
       "      <th></th>\n",
       "      <th></th>\n",
       "      <th></th>\n",
       "      <th></th>\n",
       "      <th></th>\n",
       "      <th></th>\n",
       "    </tr>\n",
       "  </thead>\n",
       "  <tbody>\n",
       "    <tr>\n",
       "      <th>1698308935</th>\n",
       "      <td>https://twitter.com/realDonaldTrump/status/169...</td>\n",
       "      <td>Be sure to tune in and watch Donald Trump on L...</td>\n",
       "      <td>2009-05-04 13:54:25</td>\n",
       "      <td>510</td>\n",
       "      <td>917</td>\n",
       "      <td>NaN</td>\n",
       "      <td>NaN</td>\n",
       "    </tr>\n",
       "    <tr>\n",
       "      <th>1701461182</th>\n",
       "      <td>https://twitter.com/realDonaldTrump/status/170...</td>\n",
       "      <td>Donald Trump will be appearing on The View tom...</td>\n",
       "      <td>2009-05-04 20:00:10</td>\n",
       "      <td>34</td>\n",
       "      <td>267</td>\n",
       "      <td>NaN</td>\n",
       "      <td>NaN</td>\n",
       "    </tr>\n",
       "    <tr>\n",
       "      <th>1737479987</th>\n",
       "      <td>https://twitter.com/realDonaldTrump/status/173...</td>\n",
       "      <td>Donald Trump reads Top Ten Financial Tips on L...</td>\n",
       "      <td>2009-05-08 08:38:08</td>\n",
       "      <td>13</td>\n",
       "      <td>19</td>\n",
       "      <td>NaN</td>\n",
       "      <td>NaN</td>\n",
       "    </tr>\n",
       "    <tr>\n",
       "      <th>1741160716</th>\n",
       "      <td>https://twitter.com/realDonaldTrump/status/174...</td>\n",
       "      <td>New Blog Post: Celebrity Apprentice Finale and...</td>\n",
       "      <td>2009-05-08 15:40:15</td>\n",
       "      <td>11</td>\n",
       "      <td>26</td>\n",
       "      <td>NaN</td>\n",
       "      <td>NaN</td>\n",
       "    </tr>\n",
       "    <tr>\n",
       "      <th>1773561338</th>\n",
       "      <td>https://twitter.com/realDonaldTrump/status/177...</td>\n",
       "      <td>\"My persona will never be that of a wallflower...</td>\n",
       "      <td>2009-05-12 09:07:28</td>\n",
       "      <td>1375</td>\n",
       "      <td>1945</td>\n",
       "      <td>NaN</td>\n",
       "      <td>NaN</td>\n",
       "    </tr>\n",
       "  </tbody>\n",
       "</table>\n",
       "</div>"
      ],
      "text/plain": [
       "                                                         link  \\\n",
       "id                                                              \n",
       "1698308935  https://twitter.com/realDonaldTrump/status/169...   \n",
       "1701461182  https://twitter.com/realDonaldTrump/status/170...   \n",
       "1737479987  https://twitter.com/realDonaldTrump/status/173...   \n",
       "1741160716  https://twitter.com/realDonaldTrump/status/174...   \n",
       "1773561338  https://twitter.com/realDonaldTrump/status/177...   \n",
       "\n",
       "                                                      content  \\\n",
       "id                                                              \n",
       "1698308935  Be sure to tune in and watch Donald Trump on L...   \n",
       "1701461182  Donald Trump will be appearing on The View tom...   \n",
       "1737479987  Donald Trump reads Top Ten Financial Tips on L...   \n",
       "1741160716  New Blog Post: Celebrity Apprentice Finale and...   \n",
       "1773561338  \"My persona will never be that of a wallflower...   \n",
       "\n",
       "                           date  retweets  favorites mentions hashtags  \n",
       "id                                                                      \n",
       "1698308935  2009-05-04 13:54:25       510        917      NaN      NaN  \n",
       "1701461182  2009-05-04 20:00:10        34        267      NaN      NaN  \n",
       "1737479987  2009-05-08 08:38:08        13         19      NaN      NaN  \n",
       "1741160716  2009-05-08 15:40:15        11         26      NaN      NaN  \n",
       "1773561338  2009-05-12 09:07:28      1375       1945      NaN      NaN  "
      ]
     },
     "execution_count": 7,
     "metadata": {},
     "output_type": "execute_result"
    }
   ],
   "source": [
    "tweets_df = pd.read_csv(\"realdonaldtrump.csv\", index_col=0)\n",
    "tweets_df.head()"
   ]
  },
  {
   "cell_type": "code",
   "execution_count": 8,
   "metadata": {
    "id": "pUW5zveoviU-"
   },
   "outputs": [
    {
     "data": {
      "text/plain": [
       "(43352, 7)"
      ]
     },
     "execution_count": 8,
     "metadata": {},
     "output_type": "execute_result"
    }
   ],
   "source": [
    "tweets_df.shape"
   ]
  },
  {
   "cell_type": "markdown",
   "metadata": {
    "id": "DTfjUruYthIw"
   },
   "source": [
    "We will be trying to predict whether a tweet will go \"viral\", defined as having more than 10,000 retweets:"
   ]
  },
  {
   "cell_type": "code",
   "execution_count": 9,
   "metadata": {
    "id": "--B-sK6hvkJG"
   },
   "outputs": [],
   "source": [
    "y = tweets_df[\"retweets\"] > 10_000"
   ]
  },
  {
   "cell_type": "markdown",
   "metadata": {
    "id": "7gm_TwM7thIx"
   },
   "source": [
    "To make predictions, we'll be using only the content (text) of the tweet. "
   ]
  },
  {
   "cell_type": "code",
   "execution_count": 10,
   "metadata": {
    "id": "lWLE1kiQvoWW"
   },
   "outputs": [],
   "source": [
    "X=tweets_df[\"content\"]"
   ]
  },
  {
   "cell_type": "code",
   "execution_count": 11,
   "metadata": {},
   "outputs": [
    {
     "data": {
      "text/plain": [
       "id\n",
       "1698308935             Be sure to tune in and watch Donald Trump on L...\n",
       "1701461182             Donald Trump will be appearing on The View tom...\n",
       "1737479987             Donald Trump reads Top Ten Financial Tips on L...\n",
       "1741160716             New Blog Post: Celebrity Apprentice Finale and...\n",
       "1773561338             \"My persona will never be that of a wallflower...\n",
       "                                             ...                        \n",
       "1273405198698975232    Joe Biden was a TOTAL FAILURE in Government. H...\n",
       "1273408026968457216    Will be interviewed on @ seanhannity tonight a...\n",
       "1273442195161387008                           pic.twitter.com/3lm1spbU8X\n",
       "1273442469066276864                           pic.twitter.com/vpCE5MadUz\n",
       "1273442528411385858                           pic.twitter.com/VLlc0BHW41\n",
       "Name: content, Length: 43352, dtype: object"
      ]
     },
     "execution_count": 11,
     "metadata": {},
     "output_type": "execute_result"
    }
   ],
   "source": [
    "X"
   ]
  },
  {
   "cell_type": "markdown",
   "metadata": {
    "id": "yY0PMVmYthIx"
   },
   "source": [
    "For the purpose of this assignment, you can ignore all the other columns in the original dataset."
   ]
  },
  {
   "cell_type": "markdown",
   "metadata": {
    "id": "wNs-kQkEthIx"
   },
   "source": [
    "#### 2(a) ordering the steps\n",
    "rubric={points:8}"
   ]
  },
  {
   "cell_type": "markdown",
   "metadata": {
    "id": "CiMXWxzDthIx"
   },
   "source": [
    "Let's start by building a model using `CountVectorizer` and `LogisticRegression`. The code required to do this has been provided below, but in the wrong order. \n",
    "\n",
    "- Rearrange the lines of code to correctly fit the model and compute the cross-validation score. \n",
    "- Add a short comment to each block to describe what the code is doing."
   ]
  },
  {
   "cell_type": "code",
   "execution_count": null,
   "metadata": {},
   "outputs": [],
   "source": []
  },
  {
   "cell_type": "code",
   "execution_count": 12,
   "metadata": {},
   "outputs": [
    {
     "data": {
      "text/plain": [
       "id\n",
       "1698308935             False\n",
       "1701461182             False\n",
       "1737479987             False\n",
       "1741160716             False\n",
       "1773561338             False\n",
       "                       ...  \n",
       "1273405198698975232     True\n",
       "1273408026968457216     True\n",
       "1273442195161387008    False\n",
       "1273442469066276864    False\n",
       "1273442528411385858    False\n",
       "Name: retweets, Length: 43352, dtype: bool"
      ]
     },
     "execution_count": 12,
     "metadata": {},
     "output_type": "execute_result"
    }
   ],
   "source": [
    "y"
   ]
  },
  {
   "cell_type": "code",
   "execution_count": 13,
   "metadata": {
    "id": "_rDIBYEJthIy",
    "tags": [
     "raises-exception"
    ]
   },
   "outputs": [
    {
     "data": {
      "text/plain": [
       "fit_time       3.748299\n",
       "score_time     0.218735\n",
       "test_score     0.897890\n",
       "train_score    0.967045\n",
       "dtype: float64"
      ]
     },
     "execution_count": 13,
     "metadata": {},
     "output_type": "execute_result"
    }
   ],
   "source": [
    "# YOUR COMMENT HERE\n",
    "countvec = CountVectorizer(stop_words=\"english\")\n",
    "\n",
    "# YOUR COMMENT HERE\n",
    "lr = LogisticRegression(max_iter=1000)\n",
    "\n",
    "# YOUR COMMENT HERE\n",
    "pipe = make_pipeline(countvec, lr)\n",
    "\n",
    "# YOUR COMMENT HERE\n",
    "\n",
    "X_train, X_test, y_train, y_test = train_test_split(X, y, random_state=321)\n",
    "\n",
    "# YOUR COMMENT HERE\n",
    "cross_val_results = pd.DataFrame(\n",
    "    cross_validate(pipe, X_train, y_train, return_train_score=True)\n",
    ")\n",
    "\n",
    "# YOUR COMMENT HERE\n",
    "cross_val_results.mean()"
   ]
  },
  {
   "cell_type": "markdown",
   "metadata": {
    "id": "W4cS6TCythIy"
   },
   "source": [
    "<br><br>"
   ]
  },
  {
   "cell_type": "markdown",
   "metadata": {
    "id": "LHI7frmRthIy"
   },
   "source": [
    "#### 2(b) Cross-validation fold sub-scores\n",
    "rubric={points:5}\n",
    "\n",
    "Above we averaged the scores from the 5 folds of cross-validation. \n",
    "\n",
    "- Print out the 5 individual scores. Reminder: `sklearn` calls them `\"test_score\"` but they are really (cross-)validation scores. \n",
    "- Are the 5 scores close to each other or spread far apart? (This is a bit subjective, answer to the best of your ability.)\n",
    "- How does the size of this dataset (number of rows) compare to the cities dataset we have been using in class? How does this relate to the different sub-scores from the 5 folds?"
   ]
  },
  {
   "cell_type": "code",
   "execution_count": 14,
   "metadata": {},
   "outputs": [
    {
     "data": {
      "text/html": [
       "<div>\n",
       "<style scoped>\n",
       "    .dataframe tbody tr th:only-of-type {\n",
       "        vertical-align: middle;\n",
       "    }\n",
       "\n",
       "    .dataframe tbody tr th {\n",
       "        vertical-align: top;\n",
       "    }\n",
       "\n",
       "    .dataframe thead th {\n",
       "        text-align: right;\n",
       "    }\n",
       "</style>\n",
       "<table border=\"1\" class=\"dataframe\">\n",
       "  <thead>\n",
       "    <tr style=\"text-align: right;\">\n",
       "      <th></th>\n",
       "      <th>fit_time</th>\n",
       "      <th>score_time</th>\n",
       "      <th>test_score</th>\n",
       "      <th>train_score</th>\n",
       "    </tr>\n",
       "  </thead>\n",
       "  <tbody>\n",
       "    <tr>\n",
       "      <th>0</th>\n",
       "      <td>3.207818</td>\n",
       "      <td>0.218167</td>\n",
       "      <td>0.899123</td>\n",
       "      <td>0.966014</td>\n",
       "    </tr>\n",
       "    <tr>\n",
       "      <th>1</th>\n",
       "      <td>3.028064</td>\n",
       "      <td>0.170868</td>\n",
       "      <td>0.899739</td>\n",
       "      <td>0.968859</td>\n",
       "    </tr>\n",
       "    <tr>\n",
       "      <th>2</th>\n",
       "      <td>2.630826</td>\n",
       "      <td>0.230297</td>\n",
       "      <td>0.896356</td>\n",
       "      <td>0.965976</td>\n",
       "    </tr>\n",
       "    <tr>\n",
       "      <th>3</th>\n",
       "      <td>2.533470</td>\n",
       "      <td>0.177040</td>\n",
       "      <td>0.898201</td>\n",
       "      <td>0.968552</td>\n",
       "    </tr>\n",
       "    <tr>\n",
       "      <th>4</th>\n",
       "      <td>2.252655</td>\n",
       "      <td>0.208355</td>\n",
       "      <td>0.896032</td>\n",
       "      <td>0.965823</td>\n",
       "    </tr>\n",
       "  </tbody>\n",
       "</table>\n",
       "</div>"
      ],
      "text/plain": [
       "   fit_time  score_time  test_score  train_score\n",
       "0  3.207818    0.218167    0.899123     0.966014\n",
       "1  3.028064    0.170868    0.899739     0.968859\n",
       "2  2.630826    0.230297    0.896356     0.965976\n",
       "3  2.533470    0.177040    0.898201     0.968552\n",
       "4  2.252655    0.208355    0.896032     0.965823"
      ]
     },
     "execution_count": 14,
     "metadata": {},
     "output_type": "execute_result"
    }
   ],
   "source": [
    "cross_val_results = pd.DataFrame(\n",
    "    cross_validate(pipe, X_train, y_train, return_train_score=True)\n",
    ")\n",
    "(cross_val_results)"
   ]
  },
  {
   "cell_type": "code",
   "execution_count": 15,
   "metadata": {},
   "outputs": [],
   "source": [
    "# all 5 are close to each other, reason is its not numerics,thus there are no bias data all are words, so shuffeling them is not good choice"
   ]
  },
  {
   "cell_type": "markdown",
   "metadata": {
    "id": "vDmTPq0pthIz"
   },
   "source": [
    "<br><br>"
   ]
  },
  {
   "cell_type": "markdown",
   "metadata": {
    "id": "XO8insKFthIz"
   },
   "source": [
    "#### 2(c) baseline\n",
    "rubric={points:3}\n",
    "\n",
    "By the way, are these scores any good? \n",
    "\n",
    "- Run `DummyClassifier` (or `MyDummyClassifier`!) on this dataset.\n",
    "- Compare the `DummyClassifier` score to what you got from logistic regression above. Does logistic regression seem to be doing anything useful?\n",
    "- Is it necessary to use `CountVectorizer` here? Briefly explain."
   ]
  },
  {
   "cell_type": "code",
   "execution_count": 16,
   "metadata": {},
   "outputs": [],
   "source": [
    "pip2 =make_pipeline(countvec,DummyClassifier())"
   ]
  },
  {
   "cell_type": "code",
   "execution_count": 17,
   "metadata": {},
   "outputs": [],
   "source": [
    "cross_val_results1 = pd.DataFrame(\n",
    "    cross_validate(pip2, X_train, y_train, return_train_score=True)\n",
    ")"
   ]
  },
  {
   "cell_type": "code",
   "execution_count": 18,
   "metadata": {},
   "outputs": [
    {
     "data": {
      "text/html": [
       "<div>\n",
       "<style scoped>\n",
       "    .dataframe tbody tr th:only-of-type {\n",
       "        vertical-align: middle;\n",
       "    }\n",
       "\n",
       "    .dataframe tbody tr th {\n",
       "        vertical-align: top;\n",
       "    }\n",
       "\n",
       "    .dataframe thead th {\n",
       "        text-align: right;\n",
       "    }\n",
       "</style>\n",
       "<table border=\"1\" class=\"dataframe\">\n",
       "  <thead>\n",
       "    <tr style=\"text-align: right;\">\n",
       "      <th></th>\n",
       "      <th>fit_time</th>\n",
       "      <th>score_time</th>\n",
       "      <th>test_score</th>\n",
       "      <th>train_score</th>\n",
       "    </tr>\n",
       "  </thead>\n",
       "  <tbody>\n",
       "    <tr>\n",
       "      <th>0</th>\n",
       "      <td>0.916372</td>\n",
       "      <td>0.218440</td>\n",
       "      <td>0.738582</td>\n",
       "      <td>0.738534</td>\n",
       "    </tr>\n",
       "    <tr>\n",
       "      <th>1</th>\n",
       "      <td>0.897976</td>\n",
       "      <td>0.180898</td>\n",
       "      <td>0.738582</td>\n",
       "      <td>0.738534</td>\n",
       "    </tr>\n",
       "    <tr>\n",
       "      <th>2</th>\n",
       "      <td>0.866991</td>\n",
       "      <td>0.181721</td>\n",
       "      <td>0.738582</td>\n",
       "      <td>0.738534</td>\n",
       "    </tr>\n",
       "    <tr>\n",
       "      <th>3</th>\n",
       "      <td>0.906849</td>\n",
       "      <td>0.197701</td>\n",
       "      <td>0.738428</td>\n",
       "      <td>0.738572</td>\n",
       "    </tr>\n",
       "    <tr>\n",
       "      <th>4</th>\n",
       "      <td>0.845925</td>\n",
       "      <td>0.216250</td>\n",
       "      <td>0.738542</td>\n",
       "      <td>0.738544</td>\n",
       "    </tr>\n",
       "  </tbody>\n",
       "</table>\n",
       "</div>"
      ],
      "text/plain": [
       "   fit_time  score_time  test_score  train_score\n",
       "0  0.916372    0.218440    0.738582     0.738534\n",
       "1  0.897976    0.180898    0.738582     0.738534\n",
       "2  0.866991    0.181721    0.738582     0.738534\n",
       "3  0.906849    0.197701    0.738428     0.738572\n",
       "4  0.845925    0.216250    0.738542     0.738544"
      ]
     },
     "execution_count": 18,
     "metadata": {},
     "output_type": "execute_result"
    }
   ],
   "source": [
    "cross_val_results1"
   ]
  },
  {
   "cell_type": "markdown",
   "metadata": {
    "id": "wgRKRF7fthIz"
   },
   "source": []
  },
  {
   "cell_type": "markdown",
   "metadata": {
    "id": "tlhwuMxZthIz"
   },
   "source": [
    "<br><br>"
   ]
  },
  {
   "cell_type": "markdown",
   "metadata": {
    "id": "1B62t4N-thIz",
    "nbgrader": {
     "grade": false,
     "grade_id": "cell-ba1f8ea22638cf75",
     "locked": true,
     "schema_version": 3,
     "solution": false,
     "task": false
    }
   },
   "source": [
    "#### 2(d) probability scores\n",
    "rubric={points:5}\n",
    "\n",
    "Here we train a logistic regression classifier on the entire training set: \n",
    "\n",
    "(Note: this is relying on the `pipe` variable from 2(a) - you'll need to redefine it if you overwrote that variable in between.)"
   ]
  },
  {
   "cell_type": "code",
   "execution_count": 19,
   "metadata": {
    "id": "bkCXQCyKthI0"
   },
   "outputs": [],
   "source": [
    "pipe.fit(X_train, y_train);"
   ]
  },
  {
   "cell_type": "markdown",
   "metadata": {
    "id": "_CjJfSRythI0"
   },
   "source": [
    "Using this model, find the tweet in the **test set** with the highest predicted probability of being viral. Print out the tweet and the associated probability score.\n",
    "\n",
    "Reminder: you are free to reuse/adapt code from lecture. Please add in a small attribution, e.g. \"From Lecture 7\"."
   ]
  },
  {
   "cell_type": "code",
   "execution_count": 20,
   "metadata": {},
   "outputs": [
    {
     "data": {
      "text/plain": [
       "array([[2.68536669e-02, 9.73146333e-01],\n",
       "       [3.72687117e-04, 9.99627313e-01],\n",
       "       [5.64193182e-02, 9.43580682e-01],\n",
       "       ...,\n",
       "       [9.93701871e-01, 6.29812932e-03],\n",
       "       [9.58455633e-01, 4.15443674e-02],\n",
       "       [2.60189063e-05, 9.99973981e-01]])"
      ]
     },
     "execution_count": 20,
     "metadata": {},
     "output_type": "execute_result"
    }
   ],
   "source": [
    "x=pipe.predict_proba(X_test)\n",
    "x"
   ]
  },
  {
   "cell_type": "code",
   "execution_count": 21,
   "metadata": {},
   "outputs": [],
   "source": [
    "df_x = pd.DataFrame(x,columns=['False','True'])"
   ]
  },
  {
   "cell_type": "code",
   "execution_count": 22,
   "metadata": {},
   "outputs": [
    {
     "data": {
      "text/plain": [
       "False    5620\n",
       "True     5134\n",
       "dtype: int64"
      ]
     },
     "execution_count": 22,
     "metadata": {},
     "output_type": "execute_result"
    }
   ],
   "source": [
    "df_x.idxmax(axis=0)"
   ]
  },
  {
   "cell_type": "code",
   "execution_count": 23,
   "metadata": {},
   "outputs": [
    {
     "data": {
      "text/plain": [
       "'Corrupt politician Adam Schiff wants people from the White House to testify in his and Pelosi’s disgraceful Witch Hunt, yet he will not allow a White House lawyer, nor will he allow ANY of our requested witnesses. This is a first in due process and Congressional history!'"
      ]
     },
     "execution_count": 23,
     "metadata": {},
     "output_type": "execute_result"
    }
   ],
   "source": [
    "X_test.iloc[5134]"
   ]
  },
  {
   "cell_type": "markdown",
   "metadata": {
    "id": "cfYVY5C5thI0"
   },
   "source": []
  },
  {
   "cell_type": "markdown",
   "metadata": {
    "id": "QFirvlAnthI0"
   },
   "source": [
    "<br><br>"
   ]
  },
  {
   "cell_type": "markdown",
   "metadata": {
    "id": "jHiHwL20thI0",
    "nbgrader": {
     "grade": false,
     "grade_id": "cell-f910e9d1d6d09182",
     "locked": true,
     "schema_version": 3,
     "solution": false,
     "task": false
    }
   },
   "source": [
    "#### 2(e) coefficients\n",
    "rubric={points:4}\n",
    "\n",
    "We can extract the `CountVectorizer` and `LogisticRegression` objects from the `make_pipeline` object as follows:\n"
   ]
  },
  {
   "cell_type": "code",
   "execution_count": 24,
   "metadata": {
    "id": "Y-cPHigAthI1"
   },
   "outputs": [],
   "source": [
    "vec_from_pipe = pipe.named_steps[\"countvectorizer\"]\n",
    "lr_from_pipe = pipe.named_steps[\"logisticregression\"]"
   ]
  },
  {
   "cell_type": "markdown",
   "metadata": {
    "id": "OuKgKbbxthI1"
   },
   "source": [
    "Using these extracted components above, display the 5 words with the highest coefficients and the 5 words with the smallest coefficients."
   ]
  },
  {
   "cell_type": "code",
   "execution_count": 25,
   "metadata": {},
   "outputs": [
    {
     "data": {
      "text/plain": [
       "id\n",
       "625116052440137728     Always great to speak with Veterans - our nati...\n",
       "709735250927226880     North Carolina lost 300,000 manufacturing jobs...\n",
       "693263187702059008     THANK YOU to all of the incredible volunteers,...\n",
       "338042150812012546     It should be mandatory that all haters and los...\n",
       "1265301249630654467    For all of the political hacks out there, if I...\n",
       "                                             ...                        \n",
       "661356183123591168     \" @ kemper34: @ TheHerd @ ColinCowherd @ realD...\n",
       "294551971610902528      “Don't find fault, find a remedy.” -- Henry Ford\n",
       "263691262819987456     . @ oreillyfactor called me a \"master marketee...\n",
       "304432499507994628                                 @ RobertSuppa. Thanks\n",
       "859143061678501892     # ICYMI- On Saturday I signed two EO's to help...\n",
       "Name: content, Length: 32514, dtype: object"
      ]
     },
     "execution_count": 25,
     "metadata": {},
     "output_type": "execute_result"
    }
   ],
   "source": [
    "X_train"
   ]
  },
  {
   "cell_type": "code",
   "execution_count": 26,
   "metadata": {},
   "outputs": [
    {
     "data": {
      "text/plain": [
       "(32514,)"
      ]
     },
     "execution_count": 26,
     "metadata": {},
     "output_type": "execute_result"
    }
   ],
   "source": [
    "X_train.shape"
   ]
  },
  {
   "cell_type": "code",
   "execution_count": 27,
   "metadata": {},
   "outputs": [],
   "source": [
    "temp = pd.DataFrame(lr_from_pipe.coef_.flatten(),columns=['coef']).sort_values(['coef'],ascending=False).head(5).index.values"
   ]
  },
  {
   "cell_type": "code",
   "execution_count": 28,
   "metadata": {},
   "outputs": [
    {
     "data": {
      "text/plain": [
       "array([17729, 24999, 14919, 10915, 36825], dtype=int64)"
      ]
     },
     "execution_count": 28,
     "metadata": {},
     "output_type": "execute_result"
    }
   ],
   "source": [
    "temp"
   ]
  },
  {
   "cell_type": "code",
   "execution_count": null,
   "metadata": {},
   "outputs": [],
   "source": []
  },
  {
   "cell_type": "code",
   "execution_count": 29,
   "metadata": {},
   "outputs": [
    {
     "data": {
      "text/html": [
       "<div>\n",
       "<style scoped>\n",
       "    .dataframe tbody tr th:only-of-type {\n",
       "        vertical-align: middle;\n",
       "    }\n",
       "\n",
       "    .dataframe tbody tr th {\n",
       "        vertical-align: top;\n",
       "    }\n",
       "\n",
       "    .dataframe thead th {\n",
       "        text-align: right;\n",
       "    }\n",
       "</style>\n",
       "<table border=\"1\" class=\"dataframe\">\n",
       "  <thead>\n",
       "    <tr style=\"text-align: right;\">\n",
       "      <th></th>\n",
       "      <th>0</th>\n",
       "    </tr>\n",
       "  </thead>\n",
       "  <tbody>\n",
       "    <tr>\n",
       "      <th>17729</th>\n",
       "      <td>harassment</td>\n",
       "    </tr>\n",
       "    <tr>\n",
       "      <th>24999</th>\n",
       "      <td>mini</td>\n",
       "    </tr>\n",
       "    <tr>\n",
       "      <th>14919</th>\n",
       "      <td>fake</td>\n",
       "    </tr>\n",
       "    <tr>\n",
       "      <th>10915</th>\n",
       "      <td>coronavirus</td>\n",
       "    </tr>\n",
       "    <tr>\n",
       "      <th>36825</th>\n",
       "      <td>transcripts</td>\n",
       "    </tr>\n",
       "  </tbody>\n",
       "</table>\n",
       "</div>"
      ],
      "text/plain": [
       "                 0\n",
       "17729   harassment\n",
       "24999         mini\n",
       "14919         fake\n",
       "10915  coronavirus\n",
       "36825  transcripts"
      ]
     },
     "execution_count": 29,
     "metadata": {},
     "output_type": "execute_result"
    }
   ],
   "source": [
    "pd.DataFrame(vec_from_pipe.get_feature_names_out()).iloc[temp]"
   ]
  },
  {
   "cell_type": "code",
   "execution_count": 30,
   "metadata": {},
   "outputs": [],
   "source": [
    "temp2 = pd.DataFrame(lr_from_pipe.coef_.flatten(),columns=['coef']).sort_values(['coef'],ascending=False).tail(5).index"
   ]
  },
  {
   "cell_type": "code",
   "execution_count": 31,
   "metadata": {},
   "outputs": [
    {
     "data": {
      "text/html": [
       "<div>\n",
       "<style scoped>\n",
       "    .dataframe tbody tr th:only-of-type {\n",
       "        vertical-align: middle;\n",
       "    }\n",
       "\n",
       "    .dataframe tbody tr th {\n",
       "        vertical-align: top;\n",
       "    }\n",
       "\n",
       "    .dataframe thead th {\n",
       "        text-align: right;\n",
       "    }\n",
       "</style>\n",
       "<table border=\"1\" class=\"dataframe\">\n",
       "  <thead>\n",
       "    <tr style=\"text-align: right;\">\n",
       "      <th></th>\n",
       "      <th>0</th>\n",
       "    </tr>\n",
       "  </thead>\n",
       "  <tbody>\n",
       "    <tr>\n",
       "      <th>2219</th>\n",
       "      <td>1pic</td>\n",
       "    </tr>\n",
       "    <tr>\n",
       "      <th>37051</th>\n",
       "      <td>trump2016</td>\n",
       "    </tr>\n",
       "    <tr>\n",
       "      <th>6928</th>\n",
       "      <td>barackobama</td>\n",
       "    </tr>\n",
       "    <tr>\n",
       "      <th>37055</th>\n",
       "      <td>trump2016pic</td>\n",
       "    </tr>\n",
       "    <tr>\n",
       "      <th>30315</th>\n",
       "      <td>realdonaldtrump</td>\n",
       "    </tr>\n",
       "  </tbody>\n",
       "</table>\n",
       "</div>"
      ],
      "text/plain": [
       "                     0\n",
       "2219              1pic\n",
       "37051        trump2016\n",
       "6928       barackobama\n",
       "37055     trump2016pic\n",
       "30315  realdonaldtrump"
      ]
     },
     "execution_count": 31,
     "metadata": {},
     "output_type": "execute_result"
    }
   ],
   "source": [
    "pd.DataFrame(vec_from_pipe.get_feature_names_out()).iloc[temp2]"
   ]
  },
  {
   "cell_type": "markdown",
   "metadata": {
    "id": "nsnEgeRathI1"
   },
   "source": []
  },
  {
   "cell_type": "markdown",
   "metadata": {
    "id": "4jgp9NsQthI1"
   },
   "source": [
    "<br><br>"
   ]
  },
  {
   "cell_type": "markdown",
   "metadata": {
    "id": "ESEDNTiTthI1"
   },
   "source": [
    "#### 2(f)\n",
    "rubric={points:10}\n",
    "\n",
    "scikit-learn provides a lot of useful tools like `make_pipeline` and `cross_validate`, which are awesome. But with these fancy tools it's also easy to lose track of what is actually happening under the hood. Here, your task is to \"manually\" (without `Pipeline` and without `cross_validate` or `cross_val_score`) compute logistic regression's validation score on one fold (that is, train on 80% and validate on 20%) of the training data. \n",
    "\n",
    "You should start with the following `CountVectorizer` and `LogisticRegression` objects, as well as `X_train` and `y_train` (which you should further split):"
   ]
  },
  {
   "cell_type": "code",
   "execution_count": 32,
   "metadata": {
    "id": "0q-ONzDdthI2"
   },
   "outputs": [],
   "source": [
    "countvec = CountVectorizer(stop_words=\"english\")\n",
    "lr = LogisticRegression(max_iter=1000)"
   ]
  },
  {
   "cell_type": "code",
   "execution_count": 33,
   "metadata": {},
   "outputs": [],
   "source": [
    "X_train_train,X_train_test,y_train_train,y_train_test = train_test_split(X_train,y_train,test_size=0.2)"
   ]
  },
  {
   "cell_type": "code",
   "execution_count": 34,
   "metadata": {},
   "outputs": [],
   "source": [
    "t2 = countvec.fit_transform(X_train_train)"
   ]
  },
  {
   "cell_type": "code",
   "execution_count": 35,
   "metadata": {},
   "outputs": [],
   "source": [
    "t2_test = countvec.transform(X_train_test)"
   ]
  },
  {
   "cell_type": "code",
   "execution_count": 36,
   "metadata": {},
   "outputs": [],
   "source": [
    "lr_fit = lr.fit(t2,y_train_train)"
   ]
  },
  {
   "cell_type": "code",
   "execution_count": 37,
   "metadata": {},
   "outputs": [
    {
     "data": {
      "text/plain": [
       "0.9685133212871477"
      ]
     },
     "execution_count": 37,
     "metadata": {},
     "output_type": "execute_result"
    }
   ],
   "source": [
    "lr_fit.score(t2,y_train_train)"
   ]
  },
  {
   "cell_type": "code",
   "execution_count": 38,
   "metadata": {},
   "outputs": [
    {
     "data": {
      "text/plain": [
       "0.8962017530370598"
      ]
     },
     "execution_count": 38,
     "metadata": {},
     "output_type": "execute_result"
    }
   ],
   "source": [
    "lr_fit.score(t2_test,y_train_test)"
   ]
  },
  {
   "cell_type": "markdown",
   "metadata": {
    "id": "Qva4yjH2thI2"
   },
   "source": [
    "Meta-comment: you might be wondering why we're going into \"implementation\" here if this course is about _applied_ ML. In CPSC 340, we would go all the way down into `LogisticRegression` and understand how `fit` works, line by line. Here we're not going into that at all, but I still think this type of question (and Exercise 1) is a useful middle ground. I do want you to know what is going on in `Pipeline` and in `cross_validate` even if we don't cover the details of `fit`. To get into logistic regression's `fit` requires a bunch of math; here, we're keeping it more conceptual and avoiding all those prerequisites."
   ]
  },
  {
   "cell_type": "markdown",
   "metadata": {
    "id": "whJW86BEthI3"
   },
   "source": [
    "<br><br><br><br>"
   ]
  },
  {
   "cell_type": "markdown",
   "metadata": {
    "id": "t-AJnpxTthI3",
    "toc-hr-collapsed": true
   },
   "source": [
    "## Exercise 3: hyperparameter optimization\n",
    "<hr>"
   ]
  },
  {
   "cell_type": "markdown",
   "metadata": {
    "id": "jUADN93QthI3",
    "nbgrader": {
     "grade": false,
     "grade_id": "cell-5e9e6fdea209d872",
     "locked": true,
     "schema_version": 3,
     "solution": false,
     "task": false
    }
   },
   "source": [
    "#### 3(a)\n",
    "rubric={points:4}\n",
    "\n",
    "The following code varies the `max_features` hyperparameter of `CountVectorizer` and makes a plot (with the x-axis on a log scale) that shows train/cross-validation scores vs. `max_features`. It also prints the results. Based on the plot/output, what value of `max_features` seems best? Briefly explain.\n",
    "\n",
    "Note: the code may take a minute or two to run. You can uncomment the `print` statement if you want to see it show the progress."
   ]
  },
  {
   "cell_type": "code",
   "execution_count": 39,
   "metadata": {
    "id": "S0akpMpethI3"
   },
   "outputs": [
    {
     "data": {
      "image/png": "[encoded data removed]",
      "text/plain": [
       "<Figure size 640x480 with 1 Axes>"
      ]
     },
     "metadata": {},
     "output_type": "display_data"
    }
   ],
   "source": [
    "train_scores = []\n",
    "cv_scores = []\n",
    "\n",
    "max_features = [10, 100, 1000, 10_000, 100_000]\n",
    "\n",
    "for mf in max_features:\n",
    "    #     print(mf)\n",
    "    pipe = make_pipeline(\n",
    "        CountVectorizer(stop_words=\"english\", max_features=mf),\n",
    "        LogisticRegression(max_iter=1000),\n",
    "    )\n",
    "    cv_results = cross_validate(pipe, X_train, y_train, return_train_score=True)\n",
    "    train_scores.append(cv_results[\"train_score\"].mean())\n",
    "    cv_scores.append(cv_results[\"test_score\"].mean())\n",
    "\n",
    "plt.semilogx(max_features, train_scores, label=\"train\")\n",
    "plt.semilogx(max_features, cv_scores, label=\"valid\")\n",
    "plt.legend()\n",
    "plt.xlabel(\"max_features\")\n",
    "plt.ylabel(\"accuracy\");"
   ]
  },
  {
   "cell_type": "markdown",
   "metadata": {
    "id": "XMxpaVG5thI4"
   },
   "source": [
    "<br><br>"
   ]
  },
  {
   "cell_type": "markdown",
   "metadata": {
    "id": "RSmZiuXFthI4"
   },
   "source": [
    "#### 3(b)\n",
    "rubric={points:4}\n",
    "\n",
    "The following code varies the `C` hyperparameter of `LogisticRegression` and makes a plot (with the x-axis on a log scale) that shows train/cross-validation scores vs. `C`. Based on the plot, what value of `C` seems best?\n",
    "\n",
    "Note: the code may take a minute or two to run. You can uncomment the `print` statement if you want to see it show the progress."
   ]
  },
  {
   "cell_type": "markdown",
   "metadata": {
    "id": "y_uBroJethI5"
   },
   "source": [
    "<br><br>"
   ]
  },
  {
   "cell_type": "markdown",
   "metadata": {
    "id": "uUNFiyeDthI5"
   },
   "source": [
    "#### 3(c)\n",
    "rubric={points:12}\n",
    "\n",
    "- Using `GridSearchCV`, jointly optimize `max_features` and `C` across all the combinations of values we tried above. \n",
    "  - Note: the code might be a bit slow here. \n",
    "  - Setting `n_jobs=-1` should speed it up if you have a multi-core processor.\n",
    "  - You can reduce the number of folds (e.g. `cv=2`) to speed it up if necessary.\n",
    "- What are the best values of `max_features` and `C` according to your grid search?\n",
    "- Do these best values agree with what you found in parts (a) and (b)?\n",
    "- Generally speaking, _should_ these values agree with what you found in parts (a) and (b)? Explain."
   ]
  },
  {
   "cell_type": "code",
   "execution_count": 40,
   "metadata": {},
   "outputs": [],
   "source": [
    "from sklearn import set_config\n",
    "\n",
    "\n",
    "set_config(display=\"diagram\")"
   ]
  },
  {
   "cell_type": "code",
   "execution_count": 41,
   "metadata": {},
   "outputs": [],
   "source": [
    "prmts={\n",
    "    'logisticregression__C': [0.001,0.01,0.1,1,10,10,100],\n",
    "    'countvectorizer__max_features':[10,100,1000,10000,100000]\n",
    "}"
   ]
  },
  {
   "cell_type": "code",
   "execution_count": 42,
   "metadata": {},
   "outputs": [],
   "source": [
    "pipe = make_pipeline(\n",
    "        CountVectorizer(stop_words=\"english\"),\n",
    "        LogisticRegression(max_iter=1000),\n",
    "    )\n"
   ]
  },
  {
   "cell_type": "code",
   "execution_count": 43,
   "metadata": {},
   "outputs": [],
   "source": [
    "grid_search = GridSearchCV(pipe,prmts,cv=5,verbose=3,n_jobs=-1,return_train_score=True)"
   ]
  },
  {
   "cell_type": "code",
   "execution_count": 44,
   "metadata": {},
   "outputs": [
    {
     "data": {
      "text/html": [
       "<style>#sk-container-id-1 {color: black;background-color: white;}#sk-container-id-1 pre{padding: 0;}#sk-container-id-1 div.sk-toggleable {background-color: white;}#sk-container-id-1 label.sk-toggleable__label {cursor: pointer;display: block;width: 100%;margin-bottom: 0;padding: 0.3em;box-sizing: border-box;text-align: center;}#sk-container-id-1 label.sk-toggleable__label-arrow:before {content: \"▸\";float: left;margin-right: 0.25em;color: #696969;}#sk-container-id-1 label.sk-toggleable__label-arrow:hover:before {color: black;}#sk-container-id-1 div.sk-estimator:hover label.sk-toggleable__label-arrow:before {color: black;}#sk-container-id-1 div.sk-toggleable__content {max-height: 0;max-width: 0;overflow: hidden;text-align: left;background-color: #f0f8ff;}#sk-container-id-1 div.sk-toggleable__content pre {margin: 0.2em;color: black;border-radius: 0.25em;background-color: #f0f8ff;}#sk-container-id-1 input.sk-toggleable__control:checked~div.sk-toggleable__content {max-height: 200px;max-width: 100%;overflow: auto;}#sk-container-id-1 input.sk-toggleable__control:checked~label.sk-toggleable__label-arrow:before {content: \"▾\";}#sk-container-id-1 div.sk-estimator input.sk-toggleable__control:checked~label.sk-toggleable__label {background-color: #d4ebff;}#sk-container-id-1 div.sk-label input.sk-toggleable__control:checked~label.sk-toggleable__label {background-color: #d4ebff;}#sk-container-id-1 input.sk-hidden--visually {border: 0;clip: rect(1px 1px 1px 1px);clip: rect(1px, 1px, 1px, 1px);height: 1px;margin: -1px;overflow: hidden;padding: 0;position: absolute;width: 1px;}#sk-container-id-1 div.sk-estimator {font-family: monospace;background-color: #f0f8ff;border: 1px dotted black;border-radius: 0.25em;box-sizing: border-box;margin-bottom: 0.5em;}#sk-container-id-1 div.sk-estimator:hover {background-color: #d4ebff;}#sk-container-id-1 div.sk-parallel-item::after {content: \"\";width: 100%;border-bottom: 1px solid gray;flex-grow: 1;}#sk-container-id-1 div.sk-label:hover label.sk-toggleable__label {background-color: #d4ebff;}#sk-container-id-1 div.sk-serial::before {content: \"\";position: absolute;border-left: 1px solid gray;box-sizing: border-box;top: 0;bottom: 0;left: 50%;z-index: 0;}#sk-container-id-1 div.sk-serial {display: flex;flex-direction: column;align-items: center;background-color: white;padding-right: 0.2em;padding-left: 0.2em;position: relative;}#sk-container-id-1 div.sk-item {position: relative;z-index: 1;}#sk-container-id-1 div.sk-parallel {display: flex;align-items: stretch;justify-content: center;background-color: white;position: relative;}#sk-container-id-1 div.sk-item::before, #sk-container-id-1 div.sk-parallel-item::before {content: \"\";position: absolute;border-left: 1px solid gray;box-sizing: border-box;top: 0;bottom: 0;left: 50%;z-index: -1;}#sk-container-id-1 div.sk-parallel-item {display: flex;flex-direction: column;z-index: 1;position: relative;background-color: white;}#sk-container-id-1 div.sk-parallel-item:first-child::after {align-self: flex-end;width: 50%;}#sk-container-id-1 div.sk-parallel-item:last-child::after {align-self: flex-start;width: 50%;}#sk-container-id-1 div.sk-parallel-item:only-child::after {width: 0;}#sk-container-id-1 div.sk-dashed-wrapped {border: 1px dashed gray;margin: 0 0.4em 0.5em 0.4em;box-sizing: border-box;padding-bottom: 0.4em;background-color: white;}#sk-container-id-1 div.sk-label label {font-family: monospace;font-weight: bold;display: inline-block;line-height: 1.2em;}#sk-container-id-1 div.sk-label-container {text-align: center;}#sk-container-id-1 div.sk-container {/* jupyter's `normalize.less` sets `[hidden] { display: none; }` but bootstrap.min.css set `[hidden] { display: none !important; }` so we also need the `!important` here to be able to override the default hidden behavior on the sphinx rendered scikit-learn.org. See: https://github.com/scikit-learn/scikit-learn/issues/21755 */display: inline-block !important;position: relative;}#sk-container-id-1 div.sk-text-repr-fallback {display: none;}</style><div id=\"sk-container-id-1\" class=\"sk-top-container\"><div class=\"sk-text-repr-fallback\"><pre>GridSearchCV(cv=5,\n",
       "             estimator=Pipeline(steps=[(&#x27;countvectorizer&#x27;,\n",
       "                                        CountVectorizer(stop_words=&#x27;english&#x27;)),\n",
       "                                       (&#x27;logisticregression&#x27;,\n",
       "                                        LogisticRegression(max_iter=1000))]),\n",
       "             n_jobs=-1,\n",
       "             param_grid={&#x27;countvectorizer__max_features&#x27;: [10, 100, 1000, 10000,\n",
       "                                                           100000],\n",
       "                         &#x27;logisticregression__C&#x27;: [0.001, 0.01, 0.1, 1, 10, 10,\n",
       "                                                   100]},\n",
       "             return_train_score=True, verbose=3)</pre><b>In a Jupyter environment, please rerun this cell to show the HTML representation or trust the notebook. <br />On GitHub, the HTML representation is unable to render, please try loading this page with nbviewer.org.</b></div><div class=\"sk-container\" hidden><div class=\"sk-item sk-dashed-wrapped\"><div class=\"sk-label-container\"><div class=\"sk-label sk-toggleable\"><input class=\"sk-toggleable__control sk-hidden--visually\" id=\"sk-estimator-id-1\" type=\"checkbox\" ><label for=\"sk-estimator-id-1\" class=\"sk-toggleable__label sk-toggleable__label-arrow\">GridSearchCV</label><div class=\"sk-toggleable__content\"><pre>GridSearchCV(cv=5,\n",
       "             estimator=Pipeline(steps=[(&#x27;countvectorizer&#x27;,\n",
       "                                        CountVectorizer(stop_words=&#x27;english&#x27;)),\n",
       "                                       (&#x27;logisticregression&#x27;,\n",
       "                                        LogisticRegression(max_iter=1000))]),\n",
       "             n_jobs=-1,\n",
       "             param_grid={&#x27;countvectorizer__max_features&#x27;: [10, 100, 1000, 10000,\n",
       "                                                           100000],\n",
       "                         &#x27;logisticregression__C&#x27;: [0.001, 0.01, 0.1, 1, 10, 10,\n",
       "                                                   100]},\n",
       "             return_train_score=True, verbose=3)</pre></div></div></div><div class=\"sk-parallel\"><div class=\"sk-parallel-item\"><div class=\"sk-item\"><div class=\"sk-label-container\"><div class=\"sk-label sk-toggleable\"><input class=\"sk-toggleable__control sk-hidden--visually\" id=\"sk-estimator-id-2\" type=\"checkbox\" ><label for=\"sk-estimator-id-2\" class=\"sk-toggleable__label sk-toggleable__label-arrow\">estimator: Pipeline</label><div class=\"sk-toggleable__content\"><pre>Pipeline(steps=[(&#x27;countvectorizer&#x27;, CountVectorizer(stop_words=&#x27;english&#x27;)),\n",
       "                (&#x27;logisticregression&#x27;, LogisticRegression(max_iter=1000))])</pre></div></div></div><div class=\"sk-serial\"><div class=\"sk-item\"><div class=\"sk-serial\"><div class=\"sk-item\"><div class=\"sk-estimator sk-toggleable\"><input class=\"sk-toggleable__control sk-hidden--visually\" id=\"sk-estimator-id-3\" type=\"checkbox\" ><label for=\"sk-estimator-id-3\" class=\"sk-toggleable__label sk-toggleable__label-arrow\">CountVectorizer</label><div class=\"sk-toggleable__content\"><pre>CountVectorizer(stop_words=&#x27;english&#x27;)</pre></div></div></div><div class=\"sk-item\"><div class=\"sk-estimator sk-toggleable\"><input class=\"sk-toggleable__control sk-hidden--visually\" id=\"sk-estimator-id-4\" type=\"checkbox\" ><label for=\"sk-estimator-id-4\" class=\"sk-toggleable__label sk-toggleable__label-arrow\">LogisticRegression</label><div class=\"sk-toggleable__content\"><pre>LogisticRegression(max_iter=1000)</pre></div></div></div></div></div></div></div></div></div></div></div></div>"
      ],
      "text/plain": [
       "GridSearchCV(cv=5,\n",
       "             estimator=Pipeline(steps=[('countvectorizer',\n",
       "                                        CountVectorizer(stop_words='english')),\n",
       "                                       ('logisticregression',\n",
       "                                        LogisticRegression(max_iter=1000))]),\n",
       "             n_jobs=-1,\n",
       "             param_grid={'countvectorizer__max_features': [10, 100, 1000, 10000,\n",
       "                                                           100000],\n",
       "                         'logisticregression__C': [0.001, 0.01, 0.1, 1, 10, 10,\n",
       "                                                   100]},\n",
       "             return_train_score=True, verbose=3)"
      ]
     },
     "execution_count": 44,
     "metadata": {},
     "output_type": "execute_result"
    }
   ],
   "source": [
    "grid_search\n"
   ]
  },
  {
   "cell_type": "code",
   "execution_count": 45,
   "metadata": {},
   "outputs": [
    {
     "name": "stdout",
     "output_type": "stream",
     "text": [
      "Fitting 5 folds for each of 35 candidates, totalling 175 fits\n"
     ]
    },
    {
     "data": {
      "text/html": [
       "<style>#sk-container-id-2 {color: black;background-color: white;}#sk-container-id-2 pre{padding: 0;}#sk-container-id-2 div.sk-toggleable {background-color: white;}#sk-container-id-2 label.sk-toggleable__label {cursor: pointer;display: block;width: 100%;margin-bottom: 0;padding: 0.3em;box-sizing: border-box;text-align: center;}#sk-container-id-2 label.sk-toggleable__label-arrow:before {content: \"▸\";float: left;margin-right: 0.25em;color: #696969;}#sk-container-id-2 label.sk-toggleable__label-arrow:hover:before {color: black;}#sk-container-id-2 div.sk-estimator:hover label.sk-toggleable__label-arrow:before {color: black;}#sk-container-id-2 div.sk-toggleable__content {max-height: 0;max-width: 0;overflow: hidden;text-align: left;background-color: #f0f8ff;}#sk-container-id-2 div.sk-toggleable__content pre {margin: 0.2em;color: black;border-radius: 0.25em;background-color: #f0f8ff;}#sk-container-id-2 input.sk-toggleable__control:checked~div.sk-toggleable__content {max-height: 200px;max-width: 100%;overflow: auto;}#sk-container-id-2 input.sk-toggleable__control:checked~label.sk-toggleable__label-arrow:before {content: \"▾\";}#sk-container-id-2 div.sk-estimator input.sk-toggleable__control:checked~label.sk-toggleable__label {background-color: #d4ebff;}#sk-container-id-2 div.sk-label input.sk-toggleable__control:checked~label.sk-toggleable__label {background-color: #d4ebff;}#sk-container-id-2 input.sk-hidden--visually {border: 0;clip: rect(1px 1px 1px 1px);clip: rect(1px, 1px, 1px, 1px);height: 1px;margin: -1px;overflow: hidden;padding: 0;position: absolute;width: 1px;}#sk-container-id-2 div.sk-estimator {font-family: monospace;background-color: #f0f8ff;border: 1px dotted black;border-radius: 0.25em;box-sizing: border-box;margin-bottom: 0.5em;}#sk-container-id-2 div.sk-estimator:hover {background-color: #d4ebff;}#sk-container-id-2 div.sk-parallel-item::after {content: \"\";width: 100%;border-bottom: 1px solid gray;flex-grow: 1;}#sk-container-id-2 div.sk-label:hover label.sk-toggleable__label {background-color: #d4ebff;}#sk-container-id-2 div.sk-serial::before {content: \"\";position: absolute;border-left: 1px solid gray;box-sizing: border-box;top: 0;bottom: 0;left: 50%;z-index: 0;}#sk-container-id-2 div.sk-serial {display: flex;flex-direction: column;align-items: center;background-color: white;padding-right: 0.2em;padding-left: 0.2em;position: relative;}#sk-container-id-2 div.sk-item {position: relative;z-index: 1;}#sk-container-id-2 div.sk-parallel {display: flex;align-items: stretch;justify-content: center;background-color: white;position: relative;}#sk-container-id-2 div.sk-item::before, #sk-container-id-2 div.sk-parallel-item::before {content: \"\";position: absolute;border-left: 1px solid gray;box-sizing: border-box;top: 0;bottom: 0;left: 50%;z-index: -1;}#sk-container-id-2 div.sk-parallel-item {display: flex;flex-direction: column;z-index: 1;position: relative;background-color: white;}#sk-container-id-2 div.sk-parallel-item:first-child::after {align-self: flex-end;width: 50%;}#sk-container-id-2 div.sk-parallel-item:last-child::after {align-self: flex-start;width: 50%;}#sk-container-id-2 div.sk-parallel-item:only-child::after {width: 0;}#sk-container-id-2 div.sk-dashed-wrapped {border: 1px dashed gray;margin: 0 0.4em 0.5em 0.4em;box-sizing: border-box;padding-bottom: 0.4em;background-color: white;}#sk-container-id-2 div.sk-label label {font-family: monospace;font-weight: bold;display: inline-block;line-height: 1.2em;}#sk-container-id-2 div.sk-label-container {text-align: center;}#sk-container-id-2 div.sk-container {/* jupyter's `normalize.less` sets `[hidden] { display: none; }` but bootstrap.min.css set `[hidden] { display: none !important; }` so we also need the `!important` here to be able to override the default hidden behavior on the sphinx rendered scikit-learn.org. See: https://github.com/scikit-learn/scikit-learn/issues/21755 */display: inline-block !important;position: relative;}#sk-container-id-2 div.sk-text-repr-fallback {display: none;}</style><div id=\"sk-container-id-2\" class=\"sk-top-container\"><div class=\"sk-text-repr-fallback\"><pre>GridSearchCV(cv=5,\n",
       "             estimator=Pipeline(steps=[(&#x27;countvectorizer&#x27;,\n",
       "                                        CountVectorizer(stop_words=&#x27;english&#x27;)),\n",
       "                                       (&#x27;logisticregression&#x27;,\n",
       "                                        LogisticRegression(max_iter=1000))]),\n",
       "             n_jobs=-1,\n",
       "             param_grid={&#x27;countvectorizer__max_features&#x27;: [10, 100, 1000, 10000,\n",
       "                                                           100000],\n",
       "                         &#x27;logisticregression__C&#x27;: [0.001, 0.01, 0.1, 1, 10, 10,\n",
       "                                                   100]},\n",
       "             return_train_score=True, verbose=3)</pre><b>In a Jupyter environment, please rerun this cell to show the HTML representation or trust the notebook. <br />On GitHub, the HTML representation is unable to render, please try loading this page with nbviewer.org.</b></div><div class=\"sk-container\" hidden><div class=\"sk-item sk-dashed-wrapped\"><div class=\"sk-label-container\"><div class=\"sk-label sk-toggleable\"><input class=\"sk-toggleable__control sk-hidden--visually\" id=\"sk-estimator-id-5\" type=\"checkbox\" ><label for=\"sk-estimator-id-5\" class=\"sk-toggleable__label sk-toggleable__label-arrow\">GridSearchCV</label><div class=\"sk-toggleable__content\"><pre>GridSearchCV(cv=5,\n",
       "             estimator=Pipeline(steps=[(&#x27;countvectorizer&#x27;,\n",
       "                                        CountVectorizer(stop_words=&#x27;english&#x27;)),\n",
       "                                       (&#x27;logisticregression&#x27;,\n",
       "                                        LogisticRegression(max_iter=1000))]),\n",
       "             n_jobs=-1,\n",
       "             param_grid={&#x27;countvectorizer__max_features&#x27;: [10, 100, 1000, 10000,\n",
       "                                                           100000],\n",
       "                         &#x27;logisticregression__C&#x27;: [0.001, 0.01, 0.1, 1, 10, 10,\n",
       "                                                   100]},\n",
       "             return_train_score=True, verbose=3)</pre></div></div></div><div class=\"sk-parallel\"><div class=\"sk-parallel-item\"><div class=\"sk-item\"><div class=\"sk-label-container\"><div class=\"sk-label sk-toggleable\"><input class=\"sk-toggleable__control sk-hidden--visually\" id=\"sk-estimator-id-6\" type=\"checkbox\" ><label for=\"sk-estimator-id-6\" class=\"sk-toggleable__label sk-toggleable__label-arrow\">estimator: Pipeline</label><div class=\"sk-toggleable__content\"><pre>Pipeline(steps=[(&#x27;countvectorizer&#x27;, CountVectorizer(stop_words=&#x27;english&#x27;)),\n",
       "                (&#x27;logisticregression&#x27;, LogisticRegression(max_iter=1000))])</pre></div></div></div><div class=\"sk-serial\"><div class=\"sk-item\"><div class=\"sk-serial\"><div class=\"sk-item\"><div class=\"sk-estimator sk-toggleable\"><input class=\"sk-toggleable__control sk-hidden--visually\" id=\"sk-estimator-id-7\" type=\"checkbox\" ><label for=\"sk-estimator-id-7\" class=\"sk-toggleable__label sk-toggleable__label-arrow\">CountVectorizer</label><div class=\"sk-toggleable__content\"><pre>CountVectorizer(stop_words=&#x27;english&#x27;)</pre></div></div></div><div class=\"sk-item\"><div class=\"sk-estimator sk-toggleable\"><input class=\"sk-toggleable__control sk-hidden--visually\" id=\"sk-estimator-id-8\" type=\"checkbox\" ><label for=\"sk-estimator-id-8\" class=\"sk-toggleable__label sk-toggleable__label-arrow\">LogisticRegression</label><div class=\"sk-toggleable__content\"><pre>LogisticRegression(max_iter=1000)</pre></div></div></div></div></div></div></div></div></div></div></div></div>"
      ],
      "text/plain": [
       "GridSearchCV(cv=5,\n",
       "             estimator=Pipeline(steps=[('countvectorizer',\n",
       "                                        CountVectorizer(stop_words='english')),\n",
       "                                       ('logisticregression',\n",
       "                                        LogisticRegression(max_iter=1000))]),\n",
       "             n_jobs=-1,\n",
       "             param_grid={'countvectorizer__max_features': [10, 100, 1000, 10000,\n",
       "                                                           100000],\n",
       "                         'logisticregression__C': [0.001, 0.01, 0.1, 1, 10, 10,\n",
       "                                                   100]},\n",
       "             return_train_score=True, verbose=3)"
      ]
     },
     "execution_count": 45,
     "metadata": {},
     "output_type": "execute_result"
    }
   ],
   "source": [
    "grid_search.fit(X_train,y_train)"
   ]
  },
  {
   "cell_type": "code",
   "execution_count": 46,
   "metadata": {},
   "outputs": [
    {
     "data": {
      "text/html": [
       "<div>\n",
       "<style scoped>\n",
       "    .dataframe tbody tr th:only-of-type {\n",
       "        vertical-align: middle;\n",
       "    }\n",
       "\n",
       "    .dataframe tbody tr th {\n",
       "        vertical-align: top;\n",
       "    }\n",
       "\n",
       "    .dataframe thead th {\n",
       "        text-align: right;\n",
       "    }\n",
       "</style>\n",
       "<table border=\"1\" class=\"dataframe\">\n",
       "  <thead>\n",
       "    <tr style=\"text-align: right;\">\n",
       "      <th></th>\n",
       "      <th>0</th>\n",
       "      <th>1</th>\n",
       "      <th>2</th>\n",
       "      <th>3</th>\n",
       "      <th>4</th>\n",
       "      <th>5</th>\n",
       "      <th>6</th>\n",
       "      <th>7</th>\n",
       "      <th>8</th>\n",
       "      <th>9</th>\n",
       "      <th>...</th>\n",
       "      <th>25</th>\n",
       "      <th>26</th>\n",
       "      <th>27</th>\n",
       "      <th>28</th>\n",
       "      <th>29</th>\n",
       "      <th>30</th>\n",
       "      <th>31</th>\n",
       "      <th>32</th>\n",
       "      <th>33</th>\n",
       "      <th>34</th>\n",
       "    </tr>\n",
       "  </thead>\n",
       "  <tbody>\n",
       "    <tr>\n",
       "      <th>mean_fit_time</th>\n",
       "      <td>0.805833</td>\n",
       "      <td>0.822669</td>\n",
       "      <td>0.817985</td>\n",
       "      <td>0.779652</td>\n",
       "      <td>0.766438</td>\n",
       "      <td>0.758366</td>\n",
       "      <td>0.726487</td>\n",
       "      <td>0.715976</td>\n",
       "      <td>0.74695</td>\n",
       "      <td>0.808625</td>\n",
       "      <td>...</td>\n",
       "      <td>7.960513</td>\n",
       "      <td>7.320526</td>\n",
       "      <td>12.05238</td>\n",
       "      <td>3.177739</td>\n",
       "      <td>3.336459</td>\n",
       "      <td>4.510083</td>\n",
       "      <td>5.740854</td>\n",
       "      <td>9.373262</td>\n",
       "      <td>10.236762</td>\n",
       "      <td>11.344918</td>\n",
       "    </tr>\n",
       "    <tr>\n",
       "      <th>std_fit_time</th>\n",
       "      <td>0.026988</td>\n",
       "      <td>0.019957</td>\n",
       "      <td>0.018981</td>\n",
       "      <td>0.026375</td>\n",
       "      <td>0.030878</td>\n",
       "      <td>0.013712</td>\n",
       "      <td>0.019679</td>\n",
       "      <td>0.025746</td>\n",
       "      <td>0.014094</td>\n",
       "      <td>0.027914</td>\n",
       "      <td>...</td>\n",
       "      <td>1.02894</td>\n",
       "      <td>0.81373</td>\n",
       "      <td>1.41575</td>\n",
       "      <td>0.499594</td>\n",
       "      <td>0.659841</td>\n",
       "      <td>0.555016</td>\n",
       "      <td>0.73065</td>\n",
       "      <td>0.8726</td>\n",
       "      <td>1.099073</td>\n",
       "      <td>0.705663</td>\n",
       "    </tr>\n",
       "    <tr>\n",
       "      <th>mean_score_time</th>\n",
       "      <td>0.150088</td>\n",
       "      <td>0.151237</td>\n",
       "      <td>0.147846</td>\n",
       "      <td>0.138596</td>\n",
       "      <td>0.150395</td>\n",
       "      <td>0.144926</td>\n",
       "      <td>0.146048</td>\n",
       "      <td>0.147944</td>\n",
       "      <td>0.144107</td>\n",
       "      <td>0.146686</td>\n",
       "      <td>...</td>\n",
       "      <td>0.780217</td>\n",
       "      <td>0.3964</td>\n",
       "      <td>0.41227</td>\n",
       "      <td>0.641602</td>\n",
       "      <td>0.580815</td>\n",
       "      <td>0.902719</td>\n",
       "      <td>0.722355</td>\n",
       "      <td>0.525694</td>\n",
       "      <td>0.375609</td>\n",
       "      <td>0.2087</td>\n",
       "    </tr>\n",
       "    <tr>\n",
       "      <th>std_score_time</th>\n",
       "      <td>0.008659</td>\n",
       "      <td>0.00551</td>\n",
       "      <td>0.006805</td>\n",
       "      <td>0.002304</td>\n",
       "      <td>0.006883</td>\n",
       "      <td>0.005515</td>\n",
       "      <td>0.01941</td>\n",
       "      <td>0.011611</td>\n",
       "      <td>0.003547</td>\n",
       "      <td>0.010876</td>\n",
       "      <td>...</td>\n",
       "      <td>0.217137</td>\n",
       "      <td>0.175712</td>\n",
       "      <td>0.166453</td>\n",
       "      <td>0.122739</td>\n",
       "      <td>0.149357</td>\n",
       "      <td>0.347436</td>\n",
       "      <td>0.15865</td>\n",
       "      <td>0.14945</td>\n",
       "      <td>0.090651</td>\n",
       "      <td>0.018932</td>\n",
       "    </tr>\n",
       "    <tr>\n",
       "      <th>param_countvectorizer__max_features</th>\n",
       "      <td>10</td>\n",
       "      <td>10</td>\n",
       "      <td>10</td>\n",
       "      <td>10</td>\n",
       "      <td>10</td>\n",
       "      <td>10</td>\n",
       "      <td>10</td>\n",
       "      <td>100</td>\n",
       "      <td>100</td>\n",
       "      <td>100</td>\n",
       "      <td>...</td>\n",
       "      <td>10000</td>\n",
       "      <td>10000</td>\n",
       "      <td>10000</td>\n",
       "      <td>100000</td>\n",
       "      <td>100000</td>\n",
       "      <td>100000</td>\n",
       "      <td>100000</td>\n",
       "      <td>100000</td>\n",
       "      <td>100000</td>\n",
       "      <td>100000</td>\n",
       "    </tr>\n",
       "    <tr>\n",
       "      <th>param_logisticregression__C</th>\n",
       "      <td>0.001</td>\n",
       "      <td>0.01</td>\n",
       "      <td>0.1</td>\n",
       "      <td>1</td>\n",
       "      <td>10</td>\n",
       "      <td>10</td>\n",
       "      <td>100</td>\n",
       "      <td>0.001</td>\n",
       "      <td>0.01</td>\n",
       "      <td>0.1</td>\n",
       "      <td>...</td>\n",
       "      <td>10</td>\n",
       "      <td>10</td>\n",
       "      <td>100</td>\n",
       "      <td>0.001</td>\n",
       "      <td>0.01</td>\n",
       "      <td>0.1</td>\n",
       "      <td>1</td>\n",
       "      <td>10</td>\n",
       "      <td>10</td>\n",
       "      <td>100</td>\n",
       "    </tr>\n",
       "    <tr>\n",
       "      <th>params</th>\n",
       "      <td>{'countvectorizer__max_features': 10, 'logisti...</td>\n",
       "      <td>{'countvectorizer__max_features': 10, 'logisti...</td>\n",
       "      <td>{'countvectorizer__max_features': 10, 'logisti...</td>\n",
       "      <td>{'countvectorizer__max_features': 10, 'logisti...</td>\n",
       "      <td>{'countvectorizer__max_features': 10, 'logisti...</td>\n",
       "      <td>{'countvectorizer__max_features': 10, 'logisti...</td>\n",
       "      <td>{'countvectorizer__max_features': 10, 'logisti...</td>\n",
       "      <td>{'countvectorizer__max_features': 100, 'logist...</td>\n",
       "      <td>{'countvectorizer__max_features': 100, 'logist...</td>\n",
       "      <td>{'countvectorizer__max_features': 100, 'logist...</td>\n",
       "      <td>...</td>\n",
       "      <td>{'countvectorizer__max_features': 10000, 'logi...</td>\n",
       "      <td>{'countvectorizer__max_features': 10000, 'logi...</td>\n",
       "      <td>{'countvectorizer__max_features': 10000, 'logi...</td>\n",
       "      <td>{'countvectorizer__max_features': 100000, 'log...</td>\n",
       "      <td>{'countvectorizer__max_features': 100000, 'log...</td>\n",
       "      <td>{'countvectorizer__max_features': 100000, 'log...</td>\n",
       "      <td>{'countvectorizer__max_features': 100000, 'log...</td>\n",
       "      <td>{'countvectorizer__max_features': 100000, 'log...</td>\n",
       "      <td>{'countvectorizer__max_features': 100000, 'log...</td>\n",
       "      <td>{'countvectorizer__max_features': 100000, 'log...</td>\n",
       "    </tr>\n",
       "    <tr>\n",
       "      <th>split0_test_score</th>\n",
       "      <td>0.74012</td>\n",
       "      <td>0.755497</td>\n",
       "      <td>0.764724</td>\n",
       "      <td>0.765185</td>\n",
       "      <td>0.765185</td>\n",
       "      <td>0.765185</td>\n",
       "      <td>0.765185</td>\n",
       "      <td>0.751807</td>\n",
       "      <td>0.818084</td>\n",
       "      <td>0.837767</td>\n",
       "      <td>...</td>\n",
       "      <td>0.885745</td>\n",
       "      <td>0.885745</td>\n",
       "      <td>0.862679</td>\n",
       "      <td>0.760572</td>\n",
       "      <td>0.859911</td>\n",
       "      <td>0.894049</td>\n",
       "      <td>0.899123</td>\n",
       "      <td>0.889436</td>\n",
       "      <td>0.889436</td>\n",
       "      <td>0.873135</td>\n",
       "    </tr>\n",
       "    <tr>\n",
       "      <th>split1_test_score</th>\n",
       "      <td>0.737813</td>\n",
       "      <td>0.750423</td>\n",
       "      <td>0.77149</td>\n",
       "      <td>0.769952</td>\n",
       "      <td>0.769952</td>\n",
       "      <td>0.769952</td>\n",
       "      <td>0.769952</td>\n",
       "      <td>0.747501</td>\n",
       "      <td>0.820237</td>\n",
       "      <td>0.838382</td>\n",
       "      <td>...</td>\n",
       "      <td>0.884822</td>\n",
       "      <td>0.884822</td>\n",
       "      <td>0.866369</td>\n",
       "      <td>0.757804</td>\n",
       "      <td>0.856528</td>\n",
       "      <td>0.891588</td>\n",
       "      <td>0.899739</td>\n",
       "      <td>0.891588</td>\n",
       "      <td>0.891588</td>\n",
       "      <td>0.879902</td>\n",
       "    </tr>\n",
       "    <tr>\n",
       "      <th>split2_test_score</th>\n",
       "      <td>0.736276</td>\n",
       "      <td>0.744887</td>\n",
       "      <td>0.762571</td>\n",
       "      <td>0.762725</td>\n",
       "      <td>0.762571</td>\n",
       "      <td>0.762571</td>\n",
       "      <td>0.762571</td>\n",
       "      <td>0.75073</td>\n",
       "      <td>0.81424</td>\n",
       "      <td>0.836229</td>\n",
       "      <td>...</td>\n",
       "      <td>0.884207</td>\n",
       "      <td>0.884207</td>\n",
       "      <td>0.867907</td>\n",
       "      <td>0.761648</td>\n",
       "      <td>0.858988</td>\n",
       "      <td>0.895279</td>\n",
       "      <td>0.896356</td>\n",
       "      <td>0.88636</td>\n",
       "      <td>0.88636</td>\n",
       "      <td>0.873443</td>\n",
       "    </tr>\n",
       "    <tr>\n",
       "      <th>split3_test_score</th>\n",
       "      <td>0.737044</td>\n",
       "      <td>0.744579</td>\n",
       "      <td>0.7658</td>\n",
       "      <td>0.765339</td>\n",
       "      <td>0.765339</td>\n",
       "      <td>0.765339</td>\n",
       "      <td>0.765339</td>\n",
       "      <td>0.746732</td>\n",
       "      <td>0.814086</td>\n",
       "      <td>0.838382</td>\n",
       "      <td>...</td>\n",
       "      <td>0.883746</td>\n",
       "      <td>0.883746</td>\n",
       "      <td>0.861295</td>\n",
       "      <td>0.757804</td>\n",
       "      <td>0.858988</td>\n",
       "      <td>0.894203</td>\n",
       "      <td>0.898201</td>\n",
       "      <td>0.889589</td>\n",
       "      <td>0.889589</td>\n",
       "      <td>0.876057</td>\n",
       "    </tr>\n",
       "    <tr>\n",
       "      <th>split4_test_score</th>\n",
       "      <td>0.737312</td>\n",
       "      <td>0.751769</td>\n",
       "      <td>0.769148</td>\n",
       "      <td>0.769763</td>\n",
       "      <td>0.769763</td>\n",
       "      <td>0.769763</td>\n",
       "      <td>0.769763</td>\n",
       "      <td>0.74777</td>\n",
       "      <td>0.813134</td>\n",
       "      <td>0.831898</td>\n",
       "      <td>...</td>\n",
       "      <td>0.885727</td>\n",
       "      <td>0.885727</td>\n",
       "      <td>0.864042</td>\n",
       "      <td>0.756383</td>\n",
       "      <td>0.85343</td>\n",
       "      <td>0.891264</td>\n",
       "      <td>0.896032</td>\n",
       "      <td>0.883882</td>\n",
       "      <td>0.883882</td>\n",
       "      <td>0.870348</td>\n",
       "    </tr>\n",
       "    <tr>\n",
       "      <th>mean_test_score</th>\n",
       "      <td>0.737713</td>\n",
       "      <td>0.749431</td>\n",
       "      <td>0.766747</td>\n",
       "      <td>0.766593</td>\n",
       "      <td>0.766562</td>\n",
       "      <td>0.766562</td>\n",
       "      <td>0.766562</td>\n",
       "      <td>0.748908</td>\n",
       "      <td>0.815956</td>\n",
       "      <td>0.836532</td>\n",
       "      <td>...</td>\n",
       "      <td>0.88485</td>\n",
       "      <td>0.88485</td>\n",
       "      <td>0.864458</td>\n",
       "      <td>0.758842</td>\n",
       "      <td>0.857569</td>\n",
       "      <td>0.893277</td>\n",
       "      <td>0.89789</td>\n",
       "      <td>0.888171</td>\n",
       "      <td>0.888171</td>\n",
       "      <td>0.874577</td>\n",
       "    </tr>\n",
       "    <tr>\n",
       "      <th>std_test_score</th>\n",
       "      <td>0.001302</td>\n",
       "      <td>0.004182</td>\n",
       "      <td>0.003184</td>\n",
       "      <td>0.002823</td>\n",
       "      <td>0.002866</td>\n",
       "      <td>0.002866</td>\n",
       "      <td>0.002866</td>\n",
       "      <td>0.001987</td>\n",
       "      <td>0.00273</td>\n",
       "      <td>0.002447</td>\n",
       "      <td>...</td>\n",
       "      <td>0.0008</td>\n",
       "      <td>0.0008</td>\n",
       "      <td>0.002404</td>\n",
       "      <td>0.001953</td>\n",
       "      <td>0.002355</td>\n",
       "      <td>0.001572</td>\n",
       "      <td>0.001473</td>\n",
       "      <td>0.002719</td>\n",
       "      <td>0.002719</td>\n",
       "      <td>0.003219</td>\n",
       "    </tr>\n",
       "    <tr>\n",
       "      <th>rank_test_score</th>\n",
       "      <td>35</td>\n",
       "      <td>33</td>\n",
       "      <td>25</td>\n",
       "      <td>26</td>\n",
       "      <td>27</td>\n",
       "      <td>27</td>\n",
       "      <td>27</td>\n",
       "      <td>34</td>\n",
       "      <td>24</td>\n",
       "      <td>23</td>\n",
       "      <td>...</td>\n",
       "      <td>12</td>\n",
       "      <td>12</td>\n",
       "      <td>15</td>\n",
       "      <td>30</td>\n",
       "      <td>16</td>\n",
       "      <td>4</td>\n",
       "      <td>1</td>\n",
       "      <td>5</td>\n",
       "      <td>5</td>\n",
       "      <td>14</td>\n",
       "    </tr>\n",
       "    <tr>\n",
       "      <th>split0_train_score</th>\n",
       "      <td>0.737726</td>\n",
       "      <td>0.751644</td>\n",
       "      <td>0.767829</td>\n",
       "      <td>0.767829</td>\n",
       "      <td>0.767829</td>\n",
       "      <td>0.767829</td>\n",
       "      <td>0.767829</td>\n",
       "      <td>0.748299</td>\n",
       "      <td>0.817077</td>\n",
       "      <td>0.836761</td>\n",
       "      <td>...</td>\n",
       "      <td>0.97701</td>\n",
       "      <td>0.97701</td>\n",
       "      <td>0.987659</td>\n",
       "      <td>0.759871</td>\n",
       "      <td>0.864557</td>\n",
       "      <td>0.919957</td>\n",
       "      <td>0.966014</td>\n",
       "      <td>0.993311</td>\n",
       "      <td>0.993311</td>\n",
       "      <td>0.998232</td>\n",
       "    </tr>\n",
       "    <tr>\n",
       "      <th>split1_train_score</th>\n",
       "      <td>0.738265</td>\n",
       "      <td>0.751336</td>\n",
       "      <td>0.768406</td>\n",
       "      <td>0.770482</td>\n",
       "      <td>0.770482</td>\n",
       "      <td>0.770482</td>\n",
       "      <td>0.770482</td>\n",
       "      <td>0.749375</td>\n",
       "      <td>0.81677</td>\n",
       "      <td>0.837684</td>\n",
       "      <td>...</td>\n",
       "      <td>0.97774</td>\n",
       "      <td>0.97774</td>\n",
       "      <td>0.98789</td>\n",
       "      <td>0.760448</td>\n",
       "      <td>0.865019</td>\n",
       "      <td>0.91815</td>\n",
       "      <td>0.968859</td>\n",
       "      <td>0.993426</td>\n",
       "      <td>0.993426</td>\n",
       "      <td>0.998808</td>\n",
       "    </tr>\n",
       "    <tr>\n",
       "      <th>split2_train_score</th>\n",
       "      <td>0.737842</td>\n",
       "      <td>0.748414</td>\n",
       "      <td>0.765715</td>\n",
       "      <td>0.766022</td>\n",
       "      <td>0.766022</td>\n",
       "      <td>0.766022</td>\n",
       "      <td>0.766022</td>\n",
       "      <td>0.74876</td>\n",
       "      <td>0.8185</td>\n",
       "      <td>0.837915</td>\n",
       "      <td>...</td>\n",
       "      <td>0.97751</td>\n",
       "      <td>0.97751</td>\n",
       "      <td>0.987621</td>\n",
       "      <td>0.758948</td>\n",
       "      <td>0.864096</td>\n",
       "      <td>0.919496</td>\n",
       "      <td>0.965976</td>\n",
       "      <td>0.994195</td>\n",
       "      <td>0.994195</td>\n",
       "      <td>0.999</td>\n",
       "    </tr>\n",
       "    <tr>\n",
       "      <th>split3_train_score</th>\n",
       "      <td>0.737919</td>\n",
       "      <td>0.748491</td>\n",
       "      <td>0.767445</td>\n",
       "      <td>0.76806</td>\n",
       "      <td>0.76806</td>\n",
       "      <td>0.76806</td>\n",
       "      <td>0.76806</td>\n",
       "      <td>0.75049</td>\n",
       "      <td>0.818154</td>\n",
       "      <td>0.83803</td>\n",
       "      <td>...</td>\n",
       "      <td>0.977125</td>\n",
       "      <td>0.977125</td>\n",
       "      <td>0.987352</td>\n",
       "      <td>0.760794</td>\n",
       "      <td>0.865442</td>\n",
       "      <td>0.918534</td>\n",
       "      <td>0.968552</td>\n",
       "      <td>0.994041</td>\n",
       "      <td>0.994041</td>\n",
       "      <td>0.998808</td>\n",
       "    </tr>\n",
       "    <tr>\n",
       "      <th>split4_train_score</th>\n",
       "      <td>0.73839</td>\n",
       "      <td>0.750423</td>\n",
       "      <td>0.768722</td>\n",
       "      <td>0.766877</td>\n",
       "      <td>0.766877</td>\n",
       "      <td>0.766877</td>\n",
       "      <td>0.766877</td>\n",
       "      <td>0.749885</td>\n",
       "      <td>0.818046</td>\n",
       "      <td>0.83819</td>\n",
       "      <td>...</td>\n",
       "      <td>0.977664</td>\n",
       "      <td>0.977664</td>\n",
       "      <td>0.987736</td>\n",
       "      <td>0.76061</td>\n",
       "      <td>0.865408</td>\n",
       "      <td>0.919845</td>\n",
       "      <td>0.965823</td>\n",
       "      <td>0.993695</td>\n",
       "      <td>0.993695</td>\n",
       "      <td>0.999</td>\n",
       "    </tr>\n",
       "    <tr>\n",
       "      <th>mean_train_score</th>\n",
       "      <td>0.738028</td>\n",
       "      <td>0.750062</td>\n",
       "      <td>0.767623</td>\n",
       "      <td>0.767854</td>\n",
       "      <td>0.767854</td>\n",
       "      <td>0.767854</td>\n",
       "      <td>0.767854</td>\n",
       "      <td>0.749362</td>\n",
       "      <td>0.817709</td>\n",
       "      <td>0.837716</td>\n",
       "      <td>...</td>\n",
       "      <td>0.97741</td>\n",
       "      <td>0.97741</td>\n",
       "      <td>0.987651</td>\n",
       "      <td>0.760134</td>\n",
       "      <td>0.864904</td>\n",
       "      <td>0.919196</td>\n",
       "      <td>0.967045</td>\n",
       "      <td>0.993733</td>\n",
       "      <td>0.993733</td>\n",
       "      <td>0.99877</td>\n",
       "    </tr>\n",
       "    <tr>\n",
       "      <th>std_train_score</th>\n",
       "      <td>0.000255</td>\n",
       "      <td>0.001374</td>\n",
       "      <td>0.001052</td>\n",
       "      <td>0.001501</td>\n",
       "      <td>0.001501</td>\n",
       "      <td>0.001501</td>\n",
       "      <td>0.001501</td>\n",
       "      <td>0.00078</td>\n",
       "      <td>0.000666</td>\n",
       "      <td>0.000505</td>\n",
       "      <td>...</td>\n",
       "      <td>0.000292</td>\n",
       "      <td>0.000292</td>\n",
       "      <td>0.000176</td>\n",
       "      <td>0.000669</td>\n",
       "      <td>0.000516</td>\n",
       "      <td>0.000724</td>\n",
       "      <td>0.001361</td>\n",
       "      <td>0.000341</td>\n",
       "      <td>0.000341</td>\n",
       "      <td>0.000283</td>\n",
       "    </tr>\n",
       "  </tbody>\n",
       "</table>\n",
       "<p>22 rows × 35 columns</p>\n",
       "</div>"
      ],
      "text/plain": [
       "                                                                                    0   \\\n",
       "mean_fit_time                                                                 0.805833   \n",
       "std_fit_time                                                                  0.026988   \n",
       "mean_score_time                                                               0.150088   \n",
       "std_score_time                                                                0.008659   \n",
       "param_countvectorizer__max_features                                                 10   \n",
       "param_logisticregression__C                                                      0.001   \n",
       "params                               {'countvectorizer__max_features': 10, 'logisti...   \n",
       "split0_test_score                                                              0.74012   \n",
       "split1_test_score                                                             0.737813   \n",
       "split2_test_score                                                             0.736276   \n",
       "split3_test_score                                                             0.737044   \n",
       "split4_test_score                                                             0.737312   \n",
       "mean_test_score                                                               0.737713   \n",
       "std_test_score                                                                0.001302   \n",
       "rank_test_score                                                                     35   \n",
       "split0_train_score                                                            0.737726   \n",
       "split1_train_score                                                            0.738265   \n",
       "split2_train_score                                                            0.737842   \n",
       "split3_train_score                                                            0.737919   \n",
       "split4_train_score                                                             0.73839   \n",
       "mean_train_score                                                              0.738028   \n",
       "std_train_score                                                               0.000255   \n",
       "\n",
       "                                                                                    1   \\\n",
       "mean_fit_time                                                                 0.822669   \n",
       "std_fit_time                                                                  0.019957   \n",
       "mean_score_time                                                               0.151237   \n",
       "std_score_time                                                                 0.00551   \n",
       "param_countvectorizer__max_features                                                 10   \n",
       "param_logisticregression__C                                                       0.01   \n",
       "params                               {'countvectorizer__max_features': 10, 'logisti...   \n",
       "split0_test_score                                                             0.755497   \n",
       "split1_test_score                                                             0.750423   \n",
       "split2_test_score                                                             0.744887   \n",
       "split3_test_score                                                             0.744579   \n",
       "split4_test_score                                                             0.751769   \n",
       "mean_test_score                                                               0.749431   \n",
       "std_test_score                                                                0.004182   \n",
       "rank_test_score                                                                     33   \n",
       "split0_train_score                                                            0.751644   \n",
       "split1_train_score                                                            0.751336   \n",
       "split2_train_score                                                            0.748414   \n",
       "split3_train_score                                                            0.748491   \n",
       "split4_train_score                                                            0.750423   \n",
       "mean_train_score                                                              0.750062   \n",
       "std_train_score                                                               0.001374   \n",
       "\n",
       "                                                                                    2   \\\n",
       "mean_fit_time                                                                 0.817985   \n",
       "std_fit_time                                                                  0.018981   \n",
       "mean_score_time                                                               0.147846   \n",
       "std_score_time                                                                0.006805   \n",
       "param_countvectorizer__max_features                                                 10   \n",
       "param_logisticregression__C                                                        0.1   \n",
       "params                               {'countvectorizer__max_features': 10, 'logisti...   \n",
       "split0_test_score                                                             0.764724   \n",
       "split1_test_score                                                              0.77149   \n",
       "split2_test_score                                                             0.762571   \n",
       "split3_test_score                                                               0.7658   \n",
       "split4_test_score                                                             0.769148   \n",
       "mean_test_score                                                               0.766747   \n",
       "std_test_score                                                                0.003184   \n",
       "rank_test_score                                                                     25   \n",
       "split0_train_score                                                            0.767829   \n",
       "split1_train_score                                                            0.768406   \n",
       "split2_train_score                                                            0.765715   \n",
       "split3_train_score                                                            0.767445   \n",
       "split4_train_score                                                            0.768722   \n",
       "mean_train_score                                                              0.767623   \n",
       "std_train_score                                                               0.001052   \n",
       "\n",
       "                                                                                    3   \\\n",
       "mean_fit_time                                                                 0.779652   \n",
       "std_fit_time                                                                  0.026375   \n",
       "mean_score_time                                                               0.138596   \n",
       "std_score_time                                                                0.002304   \n",
       "param_countvectorizer__max_features                                                 10   \n",
       "param_logisticregression__C                                                          1   \n",
       "params                               {'countvectorizer__max_features': 10, 'logisti...   \n",
       "split0_test_score                                                             0.765185   \n",
       "split1_test_score                                                             0.769952   \n",
       "split2_test_score                                                             0.762725   \n",
       "split3_test_score                                                             0.765339   \n",
       "split4_test_score                                                             0.769763   \n",
       "mean_test_score                                                               0.766593   \n",
       "std_test_score                                                                0.002823   \n",
       "rank_test_score                                                                     26   \n",
       "split0_train_score                                                            0.767829   \n",
       "split1_train_score                                                            0.770482   \n",
       "split2_train_score                                                            0.766022   \n",
       "split3_train_score                                                             0.76806   \n",
       "split4_train_score                                                            0.766877   \n",
       "mean_train_score                                                              0.767854   \n",
       "std_train_score                                                               0.001501   \n",
       "\n",
       "                                                                                    4   \\\n",
       "mean_fit_time                                                                 0.766438   \n",
       "std_fit_time                                                                  0.030878   \n",
       "mean_score_time                                                               0.150395   \n",
       "std_score_time                                                                0.006883   \n",
       "param_countvectorizer__max_features                                                 10   \n",
       "param_logisticregression__C                                                         10   \n",
       "params                               {'countvectorizer__max_features': 10, 'logisti...   \n",
       "split0_test_score                                                             0.765185   \n",
       "split1_test_score                                                             0.769952   \n",
       "split2_test_score                                                             0.762571   \n",
       "split3_test_score                                                             0.765339   \n",
       "split4_test_score                                                             0.769763   \n",
       "mean_test_score                                                               0.766562   \n",
       "std_test_score                                                                0.002866   \n",
       "rank_test_score                                                                     27   \n",
       "split0_train_score                                                            0.767829   \n",
       "split1_train_score                                                            0.770482   \n",
       "split2_train_score                                                            0.766022   \n",
       "split3_train_score                                                             0.76806   \n",
       "split4_train_score                                                            0.766877   \n",
       "mean_train_score                                                              0.767854   \n",
       "std_train_score                                                               0.001501   \n",
       "\n",
       "                                                                                    5   \\\n",
       "mean_fit_time                                                                 0.758366   \n",
       "std_fit_time                                                                  0.013712   \n",
       "mean_score_time                                                               0.144926   \n",
       "std_score_time                                                                0.005515   \n",
       "param_countvectorizer__max_features                                                 10   \n",
       "param_logisticregression__C                                                         10   \n",
       "params                               {'countvectorizer__max_features': 10, 'logisti...   \n",
       "split0_test_score                                                             0.765185   \n",
       "split1_test_score                                                             0.769952   \n",
       "split2_test_score                                                             0.762571   \n",
       "split3_test_score                                                             0.765339   \n",
       "split4_test_score                                                             0.769763   \n",
       "mean_test_score                                                               0.766562   \n",
       "std_test_score                                                                0.002866   \n",
       "rank_test_score                                                                     27   \n",
       "split0_train_score                                                            0.767829   \n",
       "split1_train_score                                                            0.770482   \n",
       "split2_train_score                                                            0.766022   \n",
       "split3_train_score                                                             0.76806   \n",
       "split4_train_score                                                            0.766877   \n",
       "mean_train_score                                                              0.767854   \n",
       "std_train_score                                                               0.001501   \n",
       "\n",
       "                                                                                    6   \\\n",
       "mean_fit_time                                                                 0.726487   \n",
       "std_fit_time                                                                  0.019679   \n",
       "mean_score_time                                                               0.146048   \n",
       "std_score_time                                                                 0.01941   \n",
       "param_countvectorizer__max_features                                                 10   \n",
       "param_logisticregression__C                                                        100   \n",
       "params                               {'countvectorizer__max_features': 10, 'logisti...   \n",
       "split0_test_score                                                             0.765185   \n",
       "split1_test_score                                                             0.769952   \n",
       "split2_test_score                                                             0.762571   \n",
       "split3_test_score                                                             0.765339   \n",
       "split4_test_score                                                             0.769763   \n",
       "mean_test_score                                                               0.766562   \n",
       "std_test_score                                                                0.002866   \n",
       "rank_test_score                                                                     27   \n",
       "split0_train_score                                                            0.767829   \n",
       "split1_train_score                                                            0.770482   \n",
       "split2_train_score                                                            0.766022   \n",
       "split3_train_score                                                             0.76806   \n",
       "split4_train_score                                                            0.766877   \n",
       "mean_train_score                                                              0.767854   \n",
       "std_train_score                                                               0.001501   \n",
       "\n",
       "                                                                                    7   \\\n",
       "mean_fit_time                                                                 0.715976   \n",
       "std_fit_time                                                                  0.025746   \n",
       "mean_score_time                                                               0.147944   \n",
       "std_score_time                                                                0.011611   \n",
       "param_countvectorizer__max_features                                                100   \n",
       "param_logisticregression__C                                                      0.001   \n",
       "params                               {'countvectorizer__max_features': 100, 'logist...   \n",
       "split0_test_score                                                             0.751807   \n",
       "split1_test_score                                                             0.747501   \n",
       "split2_test_score                                                              0.75073   \n",
       "split3_test_score                                                             0.746732   \n",
       "split4_test_score                                                              0.74777   \n",
       "mean_test_score                                                               0.748908   \n",
       "std_test_score                                                                0.001987   \n",
       "rank_test_score                                                                     34   \n",
       "split0_train_score                                                            0.748299   \n",
       "split1_train_score                                                            0.749375   \n",
       "split2_train_score                                                             0.74876   \n",
       "split3_train_score                                                             0.75049   \n",
       "split4_train_score                                                            0.749885   \n",
       "mean_train_score                                                              0.749362   \n",
       "std_train_score                                                                0.00078   \n",
       "\n",
       "                                                                                    8   \\\n",
       "mean_fit_time                                                                  0.74695   \n",
       "std_fit_time                                                                  0.014094   \n",
       "mean_score_time                                                               0.144107   \n",
       "std_score_time                                                                0.003547   \n",
       "param_countvectorizer__max_features                                                100   \n",
       "param_logisticregression__C                                                       0.01   \n",
       "params                               {'countvectorizer__max_features': 100, 'logist...   \n",
       "split0_test_score                                                             0.818084   \n",
       "split1_test_score                                                             0.820237   \n",
       "split2_test_score                                                              0.81424   \n",
       "split3_test_score                                                             0.814086   \n",
       "split4_test_score                                                             0.813134   \n",
       "mean_test_score                                                               0.815956   \n",
       "std_test_score                                                                 0.00273   \n",
       "rank_test_score                                                                     24   \n",
       "split0_train_score                                                            0.817077   \n",
       "split1_train_score                                                             0.81677   \n",
       "split2_train_score                                                              0.8185   \n",
       "split3_train_score                                                            0.818154   \n",
       "split4_train_score                                                            0.818046   \n",
       "mean_train_score                                                              0.817709   \n",
       "std_train_score                                                               0.000666   \n",
       "\n",
       "                                                                                    9   \\\n",
       "mean_fit_time                                                                 0.808625   \n",
       "std_fit_time                                                                  0.027914   \n",
       "mean_score_time                                                               0.146686   \n",
       "std_score_time                                                                0.010876   \n",
       "param_countvectorizer__max_features                                                100   \n",
       "param_logisticregression__C                                                        0.1   \n",
       "params                               {'countvectorizer__max_features': 100, 'logist...   \n",
       "split0_test_score                                                             0.837767   \n",
       "split1_test_score                                                             0.838382   \n",
       "split2_test_score                                                             0.836229   \n",
       "split3_test_score                                                             0.838382   \n",
       "split4_test_score                                                             0.831898   \n",
       "mean_test_score                                                               0.836532   \n",
       "std_test_score                                                                0.002447   \n",
       "rank_test_score                                                                     23   \n",
       "split0_train_score                                                            0.836761   \n",
       "split1_train_score                                                            0.837684   \n",
       "split2_train_score                                                            0.837915   \n",
       "split3_train_score                                                             0.83803   \n",
       "split4_train_score                                                             0.83819   \n",
       "mean_train_score                                                              0.837716   \n",
       "std_train_score                                                               0.000505   \n",
       "\n",
       "                                     ...  \\\n",
       "mean_fit_time                        ...   \n",
       "std_fit_time                         ...   \n",
       "mean_score_time                      ...   \n",
       "std_score_time                       ...   \n",
       "param_countvectorizer__max_features  ...   \n",
       "param_logisticregression__C          ...   \n",
       "params                               ...   \n",
       "split0_test_score                    ...   \n",
       "split1_test_score                    ...   \n",
       "split2_test_score                    ...   \n",
       "split3_test_score                    ...   \n",
       "split4_test_score                    ...   \n",
       "mean_test_score                      ...   \n",
       "std_test_score                       ...   \n",
       "rank_test_score                      ...   \n",
       "split0_train_score                   ...   \n",
       "split1_train_score                   ...   \n",
       "split2_train_score                   ...   \n",
       "split3_train_score                   ...   \n",
       "split4_train_score                   ...   \n",
       "mean_train_score                     ...   \n",
       "std_train_score                      ...   \n",
       "\n",
       "                                                                                    25  \\\n",
       "mean_fit_time                                                                 7.960513   \n",
       "std_fit_time                                                                   1.02894   \n",
       "mean_score_time                                                               0.780217   \n",
       "std_score_time                                                                0.217137   \n",
       "param_countvectorizer__max_features                                              10000   \n",
       "param_logisticregression__C                                                         10   \n",
       "params                               {'countvectorizer__max_features': 10000, 'logi...   \n",
       "split0_test_score                                                             0.885745   \n",
       "split1_test_score                                                             0.884822   \n",
       "split2_test_score                                                             0.884207   \n",
       "split3_test_score                                                             0.883746   \n",
       "split4_test_score                                                             0.885727   \n",
       "mean_test_score                                                                0.88485   \n",
       "std_test_score                                                                  0.0008   \n",
       "rank_test_score                                                                     12   \n",
       "split0_train_score                                                             0.97701   \n",
       "split1_train_score                                                             0.97774   \n",
       "split2_train_score                                                             0.97751   \n",
       "split3_train_score                                                            0.977125   \n",
       "split4_train_score                                                            0.977664   \n",
       "mean_train_score                                                               0.97741   \n",
       "std_train_score                                                               0.000292   \n",
       "\n",
       "                                                                                    26  \\\n",
       "mean_fit_time                                                                 7.320526   \n",
       "std_fit_time                                                                   0.81373   \n",
       "mean_score_time                                                                 0.3964   \n",
       "std_score_time                                                                0.175712   \n",
       "param_countvectorizer__max_features                                              10000   \n",
       "param_logisticregression__C                                                         10   \n",
       "params                               {'countvectorizer__max_features': 10000, 'logi...   \n",
       "split0_test_score                                                             0.885745   \n",
       "split1_test_score                                                             0.884822   \n",
       "split2_test_score                                                             0.884207   \n",
       "split3_test_score                                                             0.883746   \n",
       "split4_test_score                                                             0.885727   \n",
       "mean_test_score                                                                0.88485   \n",
       "std_test_score                                                                  0.0008   \n",
       "rank_test_score                                                                     12   \n",
       "split0_train_score                                                             0.97701   \n",
       "split1_train_score                                                             0.97774   \n",
       "split2_train_score                                                             0.97751   \n",
       "split3_train_score                                                            0.977125   \n",
       "split4_train_score                                                            0.977664   \n",
       "mean_train_score                                                               0.97741   \n",
       "std_train_score                                                               0.000292   \n",
       "\n",
       "                                                                                    27  \\\n",
       "mean_fit_time                                                                 12.05238   \n",
       "std_fit_time                                                                   1.41575   \n",
       "mean_score_time                                                                0.41227   \n",
       "std_score_time                                                                0.166453   \n",
       "param_countvectorizer__max_features                                              10000   \n",
       "param_logisticregression__C                                                        100   \n",
       "params                               {'countvectorizer__max_features': 10000, 'logi...   \n",
       "split0_test_score                                                             0.862679   \n",
       "split1_test_score                                                             0.866369   \n",
       "split2_test_score                                                             0.867907   \n",
       "split3_test_score                                                             0.861295   \n",
       "split4_test_score                                                             0.864042   \n",
       "mean_test_score                                                               0.864458   \n",
       "std_test_score                                                                0.002404   \n",
       "rank_test_score                                                                     15   \n",
       "split0_train_score                                                            0.987659   \n",
       "split1_train_score                                                             0.98789   \n",
       "split2_train_score                                                            0.987621   \n",
       "split3_train_score                                                            0.987352   \n",
       "split4_train_score                                                            0.987736   \n",
       "mean_train_score                                                              0.987651   \n",
       "std_train_score                                                               0.000176   \n",
       "\n",
       "                                                                                    28  \\\n",
       "mean_fit_time                                                                 3.177739   \n",
       "std_fit_time                                                                  0.499594   \n",
       "mean_score_time                                                               0.641602   \n",
       "std_score_time                                                                0.122739   \n",
       "param_countvectorizer__max_features                                             100000   \n",
       "param_logisticregression__C                                                      0.001   \n",
       "params                               {'countvectorizer__max_features': 100000, 'log...   \n",
       "split0_test_score                                                             0.760572   \n",
       "split1_test_score                                                             0.757804   \n",
       "split2_test_score                                                             0.761648   \n",
       "split3_test_score                                                             0.757804   \n",
       "split4_test_score                                                             0.756383   \n",
       "mean_test_score                                                               0.758842   \n",
       "std_test_score                                                                0.001953   \n",
       "rank_test_score                                                                     30   \n",
       "split0_train_score                                                            0.759871   \n",
       "split1_train_score                                                            0.760448   \n",
       "split2_train_score                                                            0.758948   \n",
       "split3_train_score                                                            0.760794   \n",
       "split4_train_score                                                             0.76061   \n",
       "mean_train_score                                                              0.760134   \n",
       "std_train_score                                                               0.000669   \n",
       "\n",
       "                                                                                    29  \\\n",
       "mean_fit_time                                                                 3.336459   \n",
       "std_fit_time                                                                  0.659841   \n",
       "mean_score_time                                                               0.580815   \n",
       "std_score_time                                                                0.149357   \n",
       "param_countvectorizer__max_features                                             100000   \n",
       "param_logisticregression__C                                                       0.01   \n",
       "params                               {'countvectorizer__max_features': 100000, 'log...   \n",
       "split0_test_score                                                             0.859911   \n",
       "split1_test_score                                                             0.856528   \n",
       "split2_test_score                                                             0.858988   \n",
       "split3_test_score                                                             0.858988   \n",
       "split4_test_score                                                              0.85343   \n",
       "mean_test_score                                                               0.857569   \n",
       "std_test_score                                                                0.002355   \n",
       "rank_test_score                                                                     16   \n",
       "split0_train_score                                                            0.864557   \n",
       "split1_train_score                                                            0.865019   \n",
       "split2_train_score                                                            0.864096   \n",
       "split3_train_score                                                            0.865442   \n",
       "split4_train_score                                                            0.865408   \n",
       "mean_train_score                                                              0.864904   \n",
       "std_train_score                                                               0.000516   \n",
       "\n",
       "                                                                                    30  \\\n",
       "mean_fit_time                                                                 4.510083   \n",
       "std_fit_time                                                                  0.555016   \n",
       "mean_score_time                                                               0.902719   \n",
       "std_score_time                                                                0.347436   \n",
       "param_countvectorizer__max_features                                             100000   \n",
       "param_logisticregression__C                                                        0.1   \n",
       "params                               {'countvectorizer__max_features': 100000, 'log...   \n",
       "split0_test_score                                                             0.894049   \n",
       "split1_test_score                                                             0.891588   \n",
       "split2_test_score                                                             0.895279   \n",
       "split3_test_score                                                             0.894203   \n",
       "split4_test_score                                                             0.891264   \n",
       "mean_test_score                                                               0.893277   \n",
       "std_test_score                                                                0.001572   \n",
       "rank_test_score                                                                      4   \n",
       "split0_train_score                                                            0.919957   \n",
       "split1_train_score                                                             0.91815   \n",
       "split2_train_score                                                            0.919496   \n",
       "split3_train_score                                                            0.918534   \n",
       "split4_train_score                                                            0.919845   \n",
       "mean_train_score                                                              0.919196   \n",
       "std_train_score                                                               0.000724   \n",
       "\n",
       "                                                                                    31  \\\n",
       "mean_fit_time                                                                 5.740854   \n",
       "std_fit_time                                                                   0.73065   \n",
       "mean_score_time                                                               0.722355   \n",
       "std_score_time                                                                 0.15865   \n",
       "param_countvectorizer__max_features                                             100000   \n",
       "param_logisticregression__C                                                          1   \n",
       "params                               {'countvectorizer__max_features': 100000, 'log...   \n",
       "split0_test_score                                                             0.899123   \n",
       "split1_test_score                                                             0.899739   \n",
       "split2_test_score                                                             0.896356   \n",
       "split3_test_score                                                             0.898201   \n",
       "split4_test_score                                                             0.896032   \n",
       "mean_test_score                                                                0.89789   \n",
       "std_test_score                                                                0.001473   \n",
       "rank_test_score                                                                      1   \n",
       "split0_train_score                                                            0.966014   \n",
       "split1_train_score                                                            0.968859   \n",
       "split2_train_score                                                            0.965976   \n",
       "split3_train_score                                                            0.968552   \n",
       "split4_train_score                                                            0.965823   \n",
       "mean_train_score                                                              0.967045   \n",
       "std_train_score                                                               0.001361   \n",
       "\n",
       "                                                                                    32  \\\n",
       "mean_fit_time                                                                 9.373262   \n",
       "std_fit_time                                                                    0.8726   \n",
       "mean_score_time                                                               0.525694   \n",
       "std_score_time                                                                 0.14945   \n",
       "param_countvectorizer__max_features                                             100000   \n",
       "param_logisticregression__C                                                         10   \n",
       "params                               {'countvectorizer__max_features': 100000, 'log...   \n",
       "split0_test_score                                                             0.889436   \n",
       "split1_test_score                                                             0.891588   \n",
       "split2_test_score                                                              0.88636   \n",
       "split3_test_score                                                             0.889589   \n",
       "split4_test_score                                                             0.883882   \n",
       "mean_test_score                                                               0.888171   \n",
       "std_test_score                                                                0.002719   \n",
       "rank_test_score                                                                      5   \n",
       "split0_train_score                                                            0.993311   \n",
       "split1_train_score                                                            0.993426   \n",
       "split2_train_score                                                            0.994195   \n",
       "split3_train_score                                                            0.994041   \n",
       "split4_train_score                                                            0.993695   \n",
       "mean_train_score                                                              0.993733   \n",
       "std_train_score                                                               0.000341   \n",
       "\n",
       "                                                                                    33  \\\n",
       "mean_fit_time                                                                10.236762   \n",
       "std_fit_time                                                                  1.099073   \n",
       "mean_score_time                                                               0.375609   \n",
       "std_score_time                                                                0.090651   \n",
       "param_countvectorizer__max_features                                             100000   \n",
       "param_logisticregression__C                                                         10   \n",
       "params                               {'countvectorizer__max_features': 100000, 'log...   \n",
       "split0_test_score                                                             0.889436   \n",
       "split1_test_score                                                             0.891588   \n",
       "split2_test_score                                                              0.88636   \n",
       "split3_test_score                                                             0.889589   \n",
       "split4_test_score                                                             0.883882   \n",
       "mean_test_score                                                               0.888171   \n",
       "std_test_score                                                                0.002719   \n",
       "rank_test_score                                                                      5   \n",
       "split0_train_score                                                            0.993311   \n",
       "split1_train_score                                                            0.993426   \n",
       "split2_train_score                                                            0.994195   \n",
       "split3_train_score                                                            0.994041   \n",
       "split4_train_score                                                            0.993695   \n",
       "mean_train_score                                                              0.993733   \n",
       "std_train_score                                                               0.000341   \n",
       "\n",
       "                                                                                    34  \n",
       "mean_fit_time                                                                11.344918  \n",
       "std_fit_time                                                                  0.705663  \n",
       "mean_score_time                                                                 0.2087  \n",
       "std_score_time                                                                0.018932  \n",
       "param_countvectorizer__max_features                                             100000  \n",
       "param_logisticregression__C                                                        100  \n",
       "params                               {'countvectorizer__max_features': 100000, 'log...  \n",
       "split0_test_score                                                             0.873135  \n",
       "split1_test_score                                                             0.879902  \n",
       "split2_test_score                                                             0.873443  \n",
       "split3_test_score                                                             0.876057  \n",
       "split4_test_score                                                             0.870348  \n",
       "mean_test_score                                                               0.874577  \n",
       "std_test_score                                                                0.003219  \n",
       "rank_test_score                                                                     14  \n",
       "split0_train_score                                                            0.998232  \n",
       "split1_train_score                                                            0.998808  \n",
       "split2_train_score                                                               0.999  \n",
       "split3_train_score                                                            0.998808  \n",
       "split4_train_score                                                               0.999  \n",
       "mean_train_score                                                               0.99877  \n",
       "std_train_score                                                               0.000283  \n",
       "\n",
       "[22 rows x 35 columns]"
      ]
     },
     "execution_count": 46,
     "metadata": {},
     "output_type": "execute_result"
    }
   ],
   "source": [
    "pd.DataFrame((grid_search.cv_results_)).T"
   ]
  },
  {
   "cell_type": "code",
   "execution_count": 47,
   "metadata": {},
   "outputs": [
    {
     "data": {
      "text/plain": [
       "0.8978900824847041"
      ]
     },
     "execution_count": 47,
     "metadata": {},
     "output_type": "execute_result"
    }
   ],
   "source": [
    "grid_search.best_score_"
   ]
  },
  {
   "cell_type": "code",
   "execution_count": 48,
   "metadata": {},
   "outputs": [
    {
     "data": {
      "text/plain": [
       "{'countvectorizer__max_features': 100000, 'logisticregression__C': 1}"
      ]
     },
     "execution_count": 48,
     "metadata": {},
     "output_type": "execute_result"
    }
   ],
   "source": [
    "grid_search.best_params_"
   ]
  },
  {
   "cell_type": "code",
   "execution_count": null,
   "metadata": {},
   "outputs": [],
   "source": []
  },
  {
   "cell_type": "code",
   "execution_count": null,
   "metadata": {},
   "outputs": [],
   "source": []
  },
  {
   "cell_type": "markdown",
   "metadata": {
    "id": "tEAJO96NthI6"
   },
   "source": [
    "<br><br>"
   ]
  },
  {
   "cell_type": "markdown",
   "metadata": {
    "id": "Q1dmvz4QthI6"
   },
   "source": [
    "#### 3(d)\n",
    "rubric={points:5}\n",
    "\n",
    "- Evaluate your final model on the test set. \n",
    "- How does your test accuracy compare to your validation accuracy? \n",
    "- If they are different: do you think this is because you \"overfitted on the validation set\", or simply random luck?"
   ]
  },
  {
   "cell_type": "code",
   "execution_count": 59,
   "metadata": {},
   "outputs": [],
   "source": [
    "pipe5 = make_pipeline(\n",
    "        CountVectorizer(stop_words=\"english\", max_features=100000),\n",
    "        LogisticRegression(C=1,max_iter=1000),\n",
    "    )\n",
    "    "
   ]
  },
  {
   "cell_type": "code",
   "execution_count": 60,
   "metadata": {},
   "outputs": [
    {
     "data": {
      "text/html": [
       "<style>#sk-container-id-4 {color: black;background-color: white;}#sk-container-id-4 pre{padding: 0;}#sk-container-id-4 div.sk-toggleable {background-color: white;}#sk-container-id-4 label.sk-toggleable__label {cursor: pointer;display: block;width: 100%;margin-bottom: 0;padding: 0.3em;box-sizing: border-box;text-align: center;}#sk-container-id-4 label.sk-toggleable__label-arrow:before {content: \"▸\";float: left;margin-right: 0.25em;color: #696969;}#sk-container-id-4 label.sk-toggleable__label-arrow:hover:before {color: black;}#sk-container-id-4 div.sk-estimator:hover label.sk-toggleable__label-arrow:before {color: black;}#sk-container-id-4 div.sk-toggleable__content {max-height: 0;max-width: 0;overflow: hidden;text-align: left;background-color: #f0f8ff;}#sk-container-id-4 div.sk-toggleable__content pre {margin: 0.2em;color: black;border-radius: 0.25em;background-color: #f0f8ff;}#sk-container-id-4 input.sk-toggleable__control:checked~div.sk-toggleable__content {max-height: 200px;max-width: 100%;overflow: auto;}#sk-container-id-4 input.sk-toggleable__control:checked~label.sk-toggleable__label-arrow:before {content: \"▾\";}#sk-container-id-4 div.sk-estimator input.sk-toggleable__control:checked~label.sk-toggleable__label {background-color: #d4ebff;}#sk-container-id-4 div.sk-label input.sk-toggleable__control:checked~label.sk-toggleable__label {background-color: #d4ebff;}#sk-container-id-4 input.sk-hidden--visually {border: 0;clip: rect(1px 1px 1px 1px);clip: rect(1px, 1px, 1px, 1px);height: 1px;margin: -1px;overflow: hidden;padding: 0;position: absolute;width: 1px;}#sk-container-id-4 div.sk-estimator {font-family: monospace;background-color: #f0f8ff;border: 1px dotted black;border-radius: 0.25em;box-sizing: border-box;margin-bottom: 0.5em;}#sk-container-id-4 div.sk-estimator:hover {background-color: #d4ebff;}#sk-container-id-4 div.sk-parallel-item::after {content: \"\";width: 100%;border-bottom: 1px solid gray;flex-grow: 1;}#sk-container-id-4 div.sk-label:hover label.sk-toggleable__label {background-color: #d4ebff;}#sk-container-id-4 div.sk-serial::before {content: \"\";position: absolute;border-left: 1px solid gray;box-sizing: border-box;top: 0;bottom: 0;left: 50%;z-index: 0;}#sk-container-id-4 div.sk-serial {display: flex;flex-direction: column;align-items: center;background-color: white;padding-right: 0.2em;padding-left: 0.2em;position: relative;}#sk-container-id-4 div.sk-item {position: relative;z-index: 1;}#sk-container-id-4 div.sk-parallel {display: flex;align-items: stretch;justify-content: center;background-color: white;position: relative;}#sk-container-id-4 div.sk-item::before, #sk-container-id-4 div.sk-parallel-item::before {content: \"\";position: absolute;border-left: 1px solid gray;box-sizing: border-box;top: 0;bottom: 0;left: 50%;z-index: -1;}#sk-container-id-4 div.sk-parallel-item {display: flex;flex-direction: column;z-index: 1;position: relative;background-color: white;}#sk-container-id-4 div.sk-parallel-item:first-child::after {align-self: flex-end;width: 50%;}#sk-container-id-4 div.sk-parallel-item:last-child::after {align-self: flex-start;width: 50%;}#sk-container-id-4 div.sk-parallel-item:only-child::after {width: 0;}#sk-container-id-4 div.sk-dashed-wrapped {border: 1px dashed gray;margin: 0 0.4em 0.5em 0.4em;box-sizing: border-box;padding-bottom: 0.4em;background-color: white;}#sk-container-id-4 div.sk-label label {font-family: monospace;font-weight: bold;display: inline-block;line-height: 1.2em;}#sk-container-id-4 div.sk-label-container {text-align: center;}#sk-container-id-4 div.sk-container {/* jupyter's `normalize.less` sets `[hidden] { display: none; }` but bootstrap.min.css set `[hidden] { display: none !important; }` so we also need the `!important` here to be able to override the default hidden behavior on the sphinx rendered scikit-learn.org. See: https://github.com/scikit-learn/scikit-learn/issues/21755 */display: inline-block !important;position: relative;}#sk-container-id-4 div.sk-text-repr-fallback {display: none;}</style><div id=\"sk-container-id-4\" class=\"sk-top-container\"><div class=\"sk-text-repr-fallback\"><pre>Pipeline(steps=[(&#x27;countvectorizer&#x27;,\n",
       "                 CountVectorizer(max_features=100000, stop_words=&#x27;english&#x27;)),\n",
       "                (&#x27;logisticregression&#x27;, LogisticRegression(C=1, max_iter=1000))])</pre><b>In a Jupyter environment, please rerun this cell to show the HTML representation or trust the notebook. <br />On GitHub, the HTML representation is unable to render, please try loading this page with nbviewer.org.</b></div><div class=\"sk-container\" hidden><div class=\"sk-item sk-dashed-wrapped\"><div class=\"sk-label-container\"><div class=\"sk-label sk-toggleable\"><input class=\"sk-toggleable__control sk-hidden--visually\" id=\"sk-estimator-id-12\" type=\"checkbox\" ><label for=\"sk-estimator-id-12\" class=\"sk-toggleable__label sk-toggleable__label-arrow\">Pipeline</label><div class=\"sk-toggleable__content\"><pre>Pipeline(steps=[(&#x27;countvectorizer&#x27;,\n",
       "                 CountVectorizer(max_features=100000, stop_words=&#x27;english&#x27;)),\n",
       "                (&#x27;logisticregression&#x27;, LogisticRegression(C=1, max_iter=1000))])</pre></div></div></div><div class=\"sk-serial\"><div class=\"sk-item\"><div class=\"sk-estimator sk-toggleable\"><input class=\"sk-toggleable__control sk-hidden--visually\" id=\"sk-estimator-id-13\" type=\"checkbox\" ><label for=\"sk-estimator-id-13\" class=\"sk-toggleable__label sk-toggleable__label-arrow\">CountVectorizer</label><div class=\"sk-toggleable__content\"><pre>CountVectorizer(max_features=100000, stop_words=&#x27;english&#x27;)</pre></div></div></div><div class=\"sk-item\"><div class=\"sk-estimator sk-toggleable\"><input class=\"sk-toggleable__control sk-hidden--visually\" id=\"sk-estimator-id-14\" type=\"checkbox\" ><label for=\"sk-estimator-id-14\" class=\"sk-toggleable__label sk-toggleable__label-arrow\">LogisticRegression</label><div class=\"sk-toggleable__content\"><pre>LogisticRegression(C=1, max_iter=1000)</pre></div></div></div></div></div></div></div>"
      ],
      "text/plain": [
       "Pipeline(steps=[('countvectorizer',\n",
       "                 CountVectorizer(max_features=100000, stop_words='english')),\n",
       "                ('logisticregression', LogisticRegression(C=1, max_iter=1000))])"
      ]
     },
     "execution_count": 60,
     "metadata": {},
     "output_type": "execute_result"
    }
   ],
   "source": [
    "pipe5.fit(X_train,y_train)"
   ]
  },
  {
   "cell_type": "code",
   "execution_count": 62,
   "metadata": {},
   "outputs": [
    {
     "data": {
      "text/plain": [
       "array([ True,  True,  True, ..., False, False,  True])"
      ]
     },
     "execution_count": 62,
     "metadata": {},
     "output_type": "execute_result"
    }
   ],
   "source": [
    "pipe5.predict(X_test)"
   ]
  },
  {
   "cell_type": "code",
   "execution_count": 61,
   "metadata": {},
   "outputs": [
    {
     "data": {
      "text/plain": [
       "0.8993356707879683"
      ]
     },
     "execution_count": 61,
     "metadata": {},
     "output_type": "execute_result"
    }
   ],
   "source": [
    "pipe5.score(X_test,y_test)"
   ]
  },
  {
   "cell_type": "markdown",
   "metadata": {
    "id": "x6bY9M55thI6"
   },
   "source": [
    "<br><br><br><br>"
   ]
  },
  {
   "cell_type": "markdown",
   "metadata": {
    "id": "oksxqIRSthI6"
   },
   "source": [
    "## Exercise 4: Very short answer questions\n",
    "rubric={points:10}\n",
    "\n",
    "Each question is worth 2 points. Max 2 sentences per answer."
   ]
  },
  {
   "cell_type": "markdown",
   "metadata": {
    "id": "_l-xHNlKthI6"
   },
   "source": [
    "1. What is the problem with calling `fit_transform` on your test data with `CountVectorizer`? \n",
    "2. Why is it important to follow the Golden Rule? If you violate it, will that give you a worse classifier?\n",
    "3. If you could only access one of `predict` or `predict_proba`, which one would you choose? Briefly explain.\n",
    "4. What are two advantages of using sklearn `Pipeline`s? \n",
    "5. What are two advantages of `RandomizedSearchCV` over `GridSearchCV`?"
   ]
  },
  {
   "cell_type": "code",
   "execution_count": null,
   "metadata": {},
   "outputs": [],
   "source": [
    "# ans:1 for testtin data it cause the problem, cause of we initiallly learn the fit mathod on train data and now we apply on test, here we try to learn test data, whuch is not appropriatre,we have to see resuut on test data not learn the test data.\n",
    "# ans:2\n",
    "# ans:3 predict_proba\n",
    "\n"
   ]
  },
  {
   "cell_type": "markdown",
   "metadata": {
    "id": "cKP3xAVgthI7"
   },
   "source": [
    "<br><br><br><br>"
   ]
  }
 ],
 "metadata": {
  "celltoolbar": "Create Assignment",
  "colab": {
   "provenance": []
  },
  "kernelspec": {
   "display_name": "Python 3 (ipykernel)",
   "language": "python",
   "name": "python3"
  },
  "language_info": {
   "codemirror_mode": {
    "name": "ipython",
    "version": 3
   },
   "file_extension": ".py",
   "mimetype": "text/x-python",
   "name": "python",
   "nbconvert_exporter": "python",
   "pygments_lexer": "ipython3",
   "version": "3.10.9"
  }
 },
 "nbformat": 4,
 "nbformat_minor": 1
}
